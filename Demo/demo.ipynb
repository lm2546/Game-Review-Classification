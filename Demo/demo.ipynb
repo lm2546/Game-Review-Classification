{
 "cells": [
  {
   "cell_type": "markdown",
   "metadata": {},
   "source": [
    "## There are two test reviews in the below. "
   ]
  },
  {
   "cell_type": "markdown",
   "metadata": {},
   "source": [
    "### The first one is a recommneded reivew. "
   ]
  },
  {
   "cell_type": "markdown",
   "metadata": {},
   "source": [
    "Disclaimer I survivor main. I play games for fun not for competition so the DBD community doesn't really get to me. If I get a bad killer that face camps oh well. I die and move on to the next game. If I get a good killer who finds me immediately hooks me (bc I can't juke whoops) and then patrol camps (which I'm 100% OK with) then no biggie. Next game please I think a lot of the community salt from killers comes from dealing with rank one survivors that don't actually play the game properly and just run around and flash the killer in the face. And while that is a legitimate strategy it takes away from the fun of the game in my opinion.As a killer (a horrible one) I've also been called names by survivors who tell me to 'get gud.' Older players ruin it for newer players or players who don't put in 1000s of hours. Just relax and have fun with the game! So what if you don't pip up there is always the next game )That being said this game is crazy fun. Don't let the saltiness of the community keep you from buying the game. Grab it have fun with it and ignore anyone who might give you a hard time ) And don't fixate too much on the ranking process unless you're absurdly highly competitive for some reason (also fine just try not to let it push you into spouts of anger!) and even then recognize that there are jerks who play this game like any other game and have fun while you compete!\n"
   ]
  },
  {
   "cell_type": "markdown",
   "metadata": {},
   "source": [
    "### The second one is a not recommended review.\n",
    "\n"
   ]
  },
  {
   "cell_type": "markdown",
   "metadata": {},
   "source": [
    "This is the worst game I have played. There are thousands of bugs. It have always end automaticly.They should refund me. Playing this game is only waste my time."
   ]
  },
  {
   "cell_type": "code",
   "execution_count": null,
   "metadata": {},
   "outputs": [],
   "source": [
    "import review_predict"
   ]
  }
 ],
 "metadata": {
  "interpreter": {
   "hash": "0d1be963c9049a0aae7224d2bf38fb1610109bbd78ff686375a11dd6544a20fd"
  },
  "kernelspec": {
   "display_name": "Python 3 (ipykernel)",
   "language": "python",
   "name": "python3"
  },
  "language_info": {
   "codemirror_mode": {
    "name": "ipython",
    "version": 3
   },
   "file_extension": ".py",
   "mimetype": "text/x-python",
   "name": "python",
   "nbconvert_exporter": "python",
   "pygments_lexer": "ipython3",
   "version": "3.8.5"
  }
 },
 "nbformat": 4,
 "nbformat_minor": 4
}
