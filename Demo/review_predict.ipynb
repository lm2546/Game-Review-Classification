{
 "cells": [
  {
   "cell_type": "code",
   "execution_count": 1,
   "metadata": {},
   "outputs": [],
   "source": [
    "import pickle\n",
    "import os\n",
    "import pandas as pd\n",
    "from colorama import Fore, Style\n",
    "import plotly.express as px\n",
    "import warnings\n",
    "import numpy as np\n",
    "warnings.filterwarnings('ignore')"
   ]
  },
  {
   "cell_type": "code",
   "execution_count": 3,
   "metadata": {},
   "outputs": [],
   "source": [
    "def demo(text):\n",
    "    file=os.path.dirname(os.getcwd())\n",
    "    model=pickle.load(open(file+'\\\\Model\\\\log_model.pkl', 'rb'))\n",
    "    Tfidf_reco=pickle.load(open(file+'\\\\Model\\\\Tfidf_reco.pkl', 'rb'))\n",
    "    DTM=Tfidf_reco.transform([text])\n",
    "    result=model.predict(DTM)[0]\n",
    "    feature_importances = pd.DataFrame(model.coef_.T,\n",
    "                                   index = model.feature_names_in_,\n",
    "                                   columns=['importance']).sort_values('importance', ascending=False)\n",
    "    feature_importances=feature_importances['importance']*np.var(feature_importances['importance'])\n",
    "    feature_importances=feature_importances.sort_values(key=abs,ascending=False)\n",
    "    positive=list(feature_importances[feature_importances>0].index)\n",
    "    negative=list(feature_importances[feature_importances<0].index)\n",
    "    print( '***********Result**********')\n",
    "    if result =='Recommended':\n",
    "        print('This review is',Fore.LIGHTGREEN_EX+model.predict(DTM)[0])\n",
    "    else:\n",
    "        print('THis review is',Fore.LIGHTRED_EX+model.predict(DTM)[0])\n",
    "    def paint(word, good, bad):\n",
    "        if word in good:\n",
    "            return(Fore.LIGHTGREEN_EX + word)\n",
    "        elif word in bad:\n",
    "            return(Fore.LIGHTRED_EX+ word)\n",
    "        else:\n",
    "            return Style.RESET_ALL + word\n",
    "    print(Style.RESET_ALL + '***********Text**********')\n",
    "    print(' '.join(map(lambda word: paint(word, positive, negative),text.split())))\n",
    "    prob=model.predict_proba(DTM)\n",
    "    df=pd.DataFrame(prob.T,columns=['Rate'])\n",
    "    df['Recommendation']=['Not Recommended','Recommended']\n",
    "    fig = px.bar(df, x='Recommendation', y='Rate',color='Recommendation',\n",
    "             color_discrete_sequence=['#ff796c','#c7fdb5'],\n",
    "             title='Recommendation Rate')\n",
    "    print(Style.RESET_ALL + '***********Visualization**********')\n",
    "    fig.show()"
   ]
  }
 ],
 "metadata": {
  "interpreter": {
   "hash": "0d1be963c9049a0aae7224d2bf38fb1610109bbd78ff686375a11dd6544a20fd"
  },
  "kernelspec": {
   "display_name": "Python 3 (ipykernel)",
   "language": "python",
   "name": "python3"
  },
  "language_info": {
   "codemirror_mode": {
    "name": "ipython",
    "version": 3
   },
   "file_extension": ".py",
   "mimetype": "text/x-python",
   "name": "python",
   "nbconvert_exporter": "python",
   "pygments_lexer": "ipython3",
   "version": "3.8.5"
  }
 },
 "nbformat": 4,
 "nbformat_minor": 4
}
