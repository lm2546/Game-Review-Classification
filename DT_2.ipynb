{
 "cells": [
  {
   "cell_type": "code",
   "execution_count": 30,
   "id": "b5d5da76-69ca-4f93-9813-cf569a5243ce",
   "metadata": {},
   "outputs": [],
   "source": [
    "import plotly.express as px\n",
    "import pandas as pd\n",
    "import numpy as np\n",
    "import re\n",
    "import matplotlib.pyplot as plt\n",
    "from wordcloud import WordCloud\n",
    "import random\n",
    "from sklearn.model_selection import train_test_split\n",
    "from wordcloud import WordCloud, STOPWORDS\n",
    "import matplotlib.pyplot as plt\n",
    "from sklearn.feature_extraction.text import CountVectorizer, TfidfVectorizer\n",
    "from sklearn.metrics import confusion_matrix, plot_confusion_matrix\n",
    "from sklearn.tree import DecisionTreeClassifier, plot_tree\n",
    "from sklearn.metrics import accuracy_score\n",
    "from sklearn import tree \n",
    "from sklearn import preprocessing"
   ]
  },
  {
   "cell_type": "code",
   "execution_count": 13,
   "id": "6260bcde-1e56-4050-938e-1899a1407410",
   "metadata": {},
   "outputs": [
    {
     "data": {
      "text/html": [
       "<div>\n",
       "<style scoped>\n",
       "    .dataframe tbody tr th:only-of-type {\n",
       "        vertical-align: middle;\n",
       "    }\n",
       "\n",
       "    .dataframe tbody tr th {\n",
       "        vertical-align: top;\n",
       "    }\n",
       "\n",
       "    .dataframe thead th {\n",
       "        text-align: right;\n",
       "    }\n",
       "</style>\n",
       "<table border=\"1\" class=\"dataframe\">\n",
       "  <thead>\n",
       "    <tr style=\"text-align: right;\">\n",
       "      <th></th>\n",
       "      <th>date_posted</th>\n",
       "      <th>funny</th>\n",
       "      <th>helpful</th>\n",
       "      <th>hour_played</th>\n",
       "      <th>is_early_access_review</th>\n",
       "      <th>recommendation</th>\n",
       "      <th>title</th>\n",
       "      <th>review</th>\n",
       "    </tr>\n",
       "  </thead>\n",
       "  <tbody>\n",
       "    <tr>\n",
       "      <th>0</th>\n",
       "      <td>2019-02-10</td>\n",
       "      <td>2</td>\n",
       "      <td>4</td>\n",
       "      <td>578</td>\n",
       "      <td>False</td>\n",
       "      <td>Recommended</td>\n",
       "      <td>Expansion - Hearts of Iron IV: Man the Guns</td>\n",
       "      <td>gt played as german reich gt declare war on b...</td>\n",
       "    </tr>\n",
       "    <tr>\n",
       "      <th>1</th>\n",
       "      <td>2019-02-07</td>\n",
       "      <td>0</td>\n",
       "      <td>0</td>\n",
       "      <td>892</td>\n",
       "      <td>False</td>\n",
       "      <td>Recommended</td>\n",
       "      <td>Expansion - Hearts of Iron IV: Man the Guns</td>\n",
       "      <td>very good game although a bit overpriced in my...</td>\n",
       "    </tr>\n",
       "    <tr>\n",
       "      <th>2</th>\n",
       "      <td>2018-06-14</td>\n",
       "      <td>126</td>\n",
       "      <td>1086</td>\n",
       "      <td>676</td>\n",
       "      <td>False</td>\n",
       "      <td>Recommended</td>\n",
       "      <td>Dead by Daylight</td>\n",
       "      <td>out of all the reviews i wrote this one is pro...</td>\n",
       "    </tr>\n",
       "    <tr>\n",
       "      <th>3</th>\n",
       "      <td>2017-06-20</td>\n",
       "      <td>85</td>\n",
       "      <td>2139</td>\n",
       "      <td>612</td>\n",
       "      <td>False</td>\n",
       "      <td>Recommended</td>\n",
       "      <td>Dead by Daylight</td>\n",
       "      <td>disclaimer i survivor main i play games for fu...</td>\n",
       "    </tr>\n",
       "    <tr>\n",
       "      <th>4</th>\n",
       "      <td>2016-12-12</td>\n",
       "      <td>4</td>\n",
       "      <td>55</td>\n",
       "      <td>2694</td>\n",
       "      <td>False</td>\n",
       "      <td>Recommended</td>\n",
       "      <td>Dead by Daylight</td>\n",
       "      <td>english after playing for more than two years ...</td>\n",
       "    </tr>\n",
       "  </tbody>\n",
       "</table>\n",
       "</div>"
      ],
      "text/plain": [
       "  date_posted  funny  helpful  hour_played  is_early_access_review  \\\n",
       "0  2019-02-10      2        4          578                   False   \n",
       "1  2019-02-07      0        0          892                   False   \n",
       "2  2018-06-14    126     1086          676                   False   \n",
       "3  2017-06-20     85     2139          612                   False   \n",
       "4  2016-12-12      4       55         2694                   False   \n",
       "\n",
       "  recommendation                                        title  \\\n",
       "0    Recommended  Expansion - Hearts of Iron IV: Man the Guns   \n",
       "1    Recommended  Expansion - Hearts of Iron IV: Man the Guns   \n",
       "2    Recommended                             Dead by Daylight   \n",
       "3    Recommended                             Dead by Daylight   \n",
       "4    Recommended                             Dead by Daylight   \n",
       "\n",
       "                                              review  \n",
       "0   gt played as german reich gt declare war on b...  \n",
       "1  very good game although a bit overpriced in my...  \n",
       "2  out of all the reviews i wrote this one is pro...  \n",
       "3  disclaimer i survivor main i play games for fu...  \n",
       "4  english after playing for more than two years ...  "
      ]
     },
     "execution_count": 13,
     "metadata": {},
     "output_type": "execute_result"
    }
   ],
   "source": [
    "DF = pd.read_csv('New_Data.csv')\n",
    "\n",
    "DF = DF.drop('authentic',axis=1)\n",
    "\n",
    "DF.head()"
   ]
  },
  {
   "cell_type": "code",
   "execution_count": 14,
   "id": "c868e54d-a9f1-4ced-89bd-645d5b61c2ce",
   "metadata": {},
   "outputs": [
    {
     "name": "stdout",
     "output_type": "stream",
     "text": [
      "0.0 187.0 360.54436069593123\n"
     ]
    }
   ],
   "source": [
    "median_helpful = DF['helpful'].median()\n",
    "median_hour = DF['hour_played'].median()\n",
    "mean_hour = DF['hour_played'].mean()\n",
    "print(median_helpful, median_hour, mean_hour)"
   ]
  },
  {
   "cell_type": "code",
   "execution_count": 15,
   "id": "bd159438-54c7-4a6c-b51d-0d4625c8bb98",
   "metadata": {},
   "outputs": [],
   "source": [
    "authentic = [None]*len(DF)\n",
    "for i in range(0, len(DF)):\n",
    "    if DF.iloc[i,2] > median_helpful or DF.iloc[i,3] >= median_hour:\n",
    "        authentic[i] = 'TRUE'\n",
    "    else:\n",
    "        authentic[i] = 'FALSE'"
   ]
  },
  {
   "cell_type": "code",
   "execution_count": 16,
   "id": "2d0d64ae-ab3e-4d96-aaac-16845e10ab18",
   "metadata": {},
   "outputs": [],
   "source": [
    "DF.insert(8, 'authentic', pd.DataFrame(authentic))"
   ]
  },
  {
   "cell_type": "code",
   "execution_count": 18,
   "id": "a2619314-a5ae-44ba-afa1-bc53d361db5c",
   "metadata": {},
   "outputs": [
    {
     "data": {
      "text/html": [
       "<div>\n",
       "<style scoped>\n",
       "    .dataframe tbody tr th:only-of-type {\n",
       "        vertical-align: middle;\n",
       "    }\n",
       "\n",
       "    .dataframe tbody tr th {\n",
       "        vertical-align: top;\n",
       "    }\n",
       "\n",
       "    .dataframe thead th {\n",
       "        text-align: right;\n",
       "    }\n",
       "</style>\n",
       "<table border=\"1\" class=\"dataframe\">\n",
       "  <thead>\n",
       "    <tr style=\"text-align: right;\">\n",
       "      <th></th>\n",
       "      <th>date_posted</th>\n",
       "      <th>funny</th>\n",
       "      <th>helpful</th>\n",
       "      <th>hour_played</th>\n",
       "      <th>is_early_access_review</th>\n",
       "      <th>recommendation</th>\n",
       "      <th>title</th>\n",
       "      <th>review</th>\n",
       "    </tr>\n",
       "    <tr>\n",
       "      <th>authentic</th>\n",
       "      <th></th>\n",
       "      <th></th>\n",
       "      <th></th>\n",
       "      <th></th>\n",
       "      <th></th>\n",
       "      <th></th>\n",
       "      <th></th>\n",
       "      <th></th>\n",
       "    </tr>\n",
       "  </thead>\n",
       "  <tbody>\n",
       "    <tr>\n",
       "      <th>FALSE</th>\n",
       "      <td>153193</td>\n",
       "      <td>153193</td>\n",
       "      <td>153193</td>\n",
       "      <td>153193</td>\n",
       "      <td>153193</td>\n",
       "      <td>153193</td>\n",
       "      <td>153193</td>\n",
       "      <td>153193</td>\n",
       "    </tr>\n",
       "    <tr>\n",
       "      <th>TRUE</th>\n",
       "      <td>182070</td>\n",
       "      <td>182070</td>\n",
       "      <td>182070</td>\n",
       "      <td>182070</td>\n",
       "      <td>182070</td>\n",
       "      <td>182070</td>\n",
       "      <td>182070</td>\n",
       "      <td>182070</td>\n",
       "    </tr>\n",
       "  </tbody>\n",
       "</table>\n",
       "</div>"
      ],
      "text/plain": [
       "           date_posted   funny  helpful  hour_played  is_early_access_review  \\\n",
       "authentic                                                                      \n",
       "FALSE           153193  153193   153193       153193                  153193   \n",
       "TRUE            182070  182070   182070       182070                  182070   \n",
       "\n",
       "           recommendation   title  review  \n",
       "authentic                                  \n",
       "FALSE              153193  153193  153193  \n",
       "TRUE               182070  182070  182070  "
      ]
     },
     "execution_count": 18,
     "metadata": {},
     "output_type": "execute_result"
    }
   ],
   "source": [
    "DF.groupby('authentic').count()"
   ]
  },
  {
   "cell_type": "code",
   "execution_count": 48,
   "id": "e59ed533-a4e5-4354-9bba-7634380fe856",
   "metadata": {},
   "outputs": [],
   "source": [
    "fig = px.histogram(DF, x='recommendation',color=\"authentic\", title = 'Distribution of Labels',\n",
    "                   color_discrete_sequence=[\"lightgreen\", \"lightskyblue\", \"lightsalmon\"])\n",
    "#fig.show()\n",
    "#fig.write_html(\"proposal_distribution of labels.html\")"
   ]
  },
  {
   "cell_type": "code",
   "execution_count": 23,
   "id": "fd4a48c9-2a40-4c21-8f4a-182b17b6a958",
   "metadata": {},
   "outputs": [],
   "source": [
    "authentic_2 = [None]*len(DF)\n",
    "for i in range(0, len(DF)):\n",
    "    if DF.iloc[i,2] > median_helpful or DF.iloc[i,3] >= mean_hour:\n",
    "        authentic_2[i] = 'TRUE'\n",
    "    else:\n",
    "        authentic_2[i] = 'FALSE'"
   ]
  },
  {
   "cell_type": "code",
   "execution_count": 25,
   "id": "1396f425-2b2b-4738-9ed5-705860a6d325",
   "metadata": {},
   "outputs": [],
   "source": [
    "DF.insert(9, 'authentic_2', pd.DataFrame(authentic_2))"
   ]
  },
  {
   "cell_type": "code",
   "execution_count": 26,
   "id": "6a3815d5-a6ee-469d-80dd-753d9e44defb",
   "metadata": {},
   "outputs": [
    {
     "data": {
      "text/html": [
       "<div>\n",
       "<style scoped>\n",
       "    .dataframe tbody tr th:only-of-type {\n",
       "        vertical-align: middle;\n",
       "    }\n",
       "\n",
       "    .dataframe tbody tr th {\n",
       "        vertical-align: top;\n",
       "    }\n",
       "\n",
       "    .dataframe thead th {\n",
       "        text-align: right;\n",
       "    }\n",
       "</style>\n",
       "<table border=\"1\" class=\"dataframe\">\n",
       "  <thead>\n",
       "    <tr style=\"text-align: right;\">\n",
       "      <th></th>\n",
       "      <th>date_posted</th>\n",
       "      <th>funny</th>\n",
       "      <th>helpful</th>\n",
       "      <th>hour_played</th>\n",
       "      <th>is_early_access_review</th>\n",
       "      <th>recommendation</th>\n",
       "      <th>title</th>\n",
       "      <th>review</th>\n",
       "      <th>authentic</th>\n",
       "    </tr>\n",
       "    <tr>\n",
       "      <th>authentic_2</th>\n",
       "      <th></th>\n",
       "      <th></th>\n",
       "      <th></th>\n",
       "      <th></th>\n",
       "      <th></th>\n",
       "      <th></th>\n",
       "      <th></th>\n",
       "      <th></th>\n",
       "      <th></th>\n",
       "    </tr>\n",
       "  </thead>\n",
       "  <tbody>\n",
       "    <tr>\n",
       "      <th>FALSE</th>\n",
       "      <td>211888</td>\n",
       "      <td>211888</td>\n",
       "      <td>211888</td>\n",
       "      <td>211888</td>\n",
       "      <td>211888</td>\n",
       "      <td>211888</td>\n",
       "      <td>211888</td>\n",
       "      <td>211888</td>\n",
       "      <td>211888</td>\n",
       "    </tr>\n",
       "    <tr>\n",
       "      <th>TRUE</th>\n",
       "      <td>123375</td>\n",
       "      <td>123375</td>\n",
       "      <td>123375</td>\n",
       "      <td>123375</td>\n",
       "      <td>123375</td>\n",
       "      <td>123375</td>\n",
       "      <td>123375</td>\n",
       "      <td>123375</td>\n",
       "      <td>123375</td>\n",
       "    </tr>\n",
       "  </tbody>\n",
       "</table>\n",
       "</div>"
      ],
      "text/plain": [
       "             date_posted   funny  helpful  hour_played  \\\n",
       "authentic_2                                              \n",
       "FALSE             211888  211888   211888       211888   \n",
       "TRUE              123375  123375   123375       123375   \n",
       "\n",
       "             is_early_access_review  recommendation   title  review  authentic  \n",
       "authentic_2                                                                     \n",
       "FALSE                        211888          211888  211888  211888     211888  \n",
       "TRUE                         123375          123375  123375  123375     123375  "
      ]
     },
     "execution_count": 26,
     "metadata": {},
     "output_type": "execute_result"
    }
   ],
   "source": [
    "DF.groupby('authentic_2').count()"
   ]
  },
  {
   "cell_type": "code",
   "execution_count": 49,
   "id": "10112027-feb7-4c34-b8a0-da1c29c96b0d",
   "metadata": {},
   "outputs": [],
   "source": [
    "fig = px.histogram(DF, x='recommendation',color=\"authentic_2\", title = 'Distribution of Labels',\n",
    "                   color_discrete_sequence=[\"lightgreen\", \"lightskyblue\", \"lightsalmon\"])\n",
    "#fig.show()\n",
    "#fig.write_html(\"proposal_distribution of labels.html\")"
   ]
  },
  {
   "cell_type": "code",
   "execution_count": 37,
   "id": "e169567f-85b4-4582-b86e-310f4ac2ebbf",
   "metadata": {},
   "outputs": [],
   "source": [
    "Train_auth,Test_auth = train_test_split(DF, test_size = 0.25, stratify=DF['authentic_2'], random_state = 580)"
   ]
  },
  {
   "cell_type": "code",
   "execution_count": 38,
   "id": "33cd9ca5-95ee-4336-b8a5-c34294b8bf9b",
   "metadata": {},
   "outputs": [],
   "source": [
    "Tfidf_auth=TfidfVectorizer(\n",
    "    input=\"content\",\n",
    "    lowercase=True, \n",
    "    stop_words = \"english\",max_features = 1000)\n",
    "Train_DTM_auth = Tfidf_auth.fit_transform(Train_auth['review'])\n",
    "Train_DTM_DF_auth=pd.DataFrame(Train_DTM_auth.toarray(),columns=Tfidf_auth.get_feature_names())"
   ]
  },
  {
   "cell_type": "code",
   "execution_count": 45,
   "id": "cf16f81e-8984-43c8-b599-92467281e70b",
   "metadata": {},
   "outputs": [],
   "source": [
    "## Instantiate\n",
    "MyDT_auth=DecisionTreeClassifier(criterion='entropy', ##\"entropy\" or \"gini\"\n",
    "                            splitter='best',  ## or \"random\" or \"best\"\n",
    "                            max_depth=20, \n",
    "                            min_samples_split=2, \n",
    "                            min_samples_leaf=1, \n",
    "                            min_weight_fraction_leaf=0.0, \n",
    "                            max_features=None, \n",
    "                            random_state=None, \n",
    "                            max_leaf_nodes=None, \n",
    "                            min_impurity_decrease=0.0, \n",
    "                            min_impurity_split=None, \n",
    "                            class_weight=None)\n",
    "\n",
    "MyDT_auth.fit(Train_DTM_DF_auth, Train_auth['authentic_2'])\n",
    "\n",
    "feature_names = Train_DTM_DF_auth.columns\n",
    "class_names = Train_auth['authentic_2'].unique()"
   ]
  },
  {
   "cell_type": "code",
   "execution_count": 46,
   "id": "51bbe3bd-0a12-4550-a35b-8bfa50e17001",
   "metadata": {},
   "outputs": [],
   "source": [
    "Test_DTM_auth = Tfidf_auth.transform(Test_auth['review'])\n",
    "Test_DTM_DF_auth=pd.DataFrame(Test_DTM_auth.toarray(),columns=Tfidf_auth.get_feature_names())\n",
    "DT_pred_auth=MyDT_auth.predict(Test_DTM_DF_auth)"
   ]
  },
  {
   "cell_type": "code",
   "execution_count": 47,
   "id": "c3ee9d20-f2f3-46c2-9c01-441229afc1bb",
   "metadata": {},
   "outputs": [
    {
     "name": "stdout",
     "output_type": "stream",
     "text": [
      "\n",
      "The confusion matrix is:\n",
      "[[50158  2814]\n",
      " [27812  3032]]\n"
     ]
    },
    {
     "data": {
      "text/plain": [
       "0.6346043714803856"
      ]
     },
     "execution_count": 47,
     "metadata": {},
     "output_type": "execute_result"
    },
    {
     "data": {
      "image/png": "[encoded data removed]",
      "text/plain": [
       "<Figure size 432x288 with 2 Axes>"
      ]
     },
     "metadata": {
      "needs_background": "light"
     },
     "output_type": "display_data"
    }
   ],
   "source": [
    "bn_matrix = confusion_matrix(Test_auth['authentic_2'], DT_pred_auth)\n",
    "print(\"\\nThe confusion matrix is:\")\n",
    "print(bn_matrix)\n",
    "plot_confusion_matrix(MyDT_auth, Test_DTM_DF_auth, Test_auth['authentic_2'], cmap = 'summer_r')\n",
    "#plt.savefig('MyTree1_cm.png')\n",
    "accuracy_score(Test_auth['authentic_2'], DT_pred_auth)"
   ]
  },
  {
   "cell_type": "code",
   "execution_count": null,
   "id": "d4df9175-0cb2-44e4-a801-773c0a1b7e3d",
   "metadata": {},
   "outputs": [],
   "source": []
  }
 ],
 "metadata": {
  "kernelspec": {
   "display_name": "Python 3",
   "language": "python",
   "name": "python3"
  },
  "language_info": {
   "codemirror_mode": {
    "name": "ipython",
    "version": 3
   },
   "file_extension": ".py",
   "mimetype": "text/x-python",
   "name": "python",
   "nbconvert_exporter": "python",
   "pygments_lexer": "ipython3",
   "version": "3.8.2"
  }
 },
 "nbformat": 4,
 "nbformat_minor": 5
}
