{
 "cells": [
  {
   "cell_type": "markdown",
   "id": "c5aea907",
   "metadata": {},
   "source": [
    "# Data Munging"
   ]
  },
  {
   "cell_type": "markdown",
   "id": "67e5e188",
   "metadata": {},
   "source": [
    "## Load Pacakge"
   ]
  },
  {
   "cell_type": "code",
   "execution_count": 87,
   "id": "a9774d08-b633-4567-a1f2-b0d58294fb27",
   "metadata": {},
   "outputs": [],
   "source": [
    "import plotly.express as px\n",
    "import pandas as pd\n",
    "import numpy as np\n",
    "import re\n",
    "import matplotlib.pyplot as plt\n",
    "from wordcloud import WordCloud\n",
    "import random\n",
<<<<<<< HEAD
    "import zipfile\n",
    "from IPython.display import display\n",
    "from sklearn.model_selection import train_test_split"
   ]
  },
  {
   "cell_type": "markdown",
   "id": "bb7a3036",
   "metadata": {},
   "source": [
    "## Read Data"
   ]
  },
  {
   "cell_type": "markdown",
   "id": "ac46ace8",
   "metadata": {},
   "source": [
    "Unzip file and read the local data."
=======
    "from sklearn.model_selection import train_test_split"
>>>>>>> b61fef36c8a84f935d2e300ebc0c7c63089d1131
   ]
  },
  {
   "cell_type": "code",
   "execution_count": 2,
   "id": "79625702",
   "metadata": {},
   "outputs": [],
   "source": [
    "with zipfile.ZipFile('data/steam_reviews.zip', 'r') as my_zip:\n",
    "  my_zip.extractall('data')\n",
    "DF = pd.read_csv('data/steam_reviews.csv')"
   ]
  },
  {
   "cell_type": "markdown",
   "id": "8c5f4cd1",
   "metadata": {},
   "source": [
    "Show the first 6 lines of data to get an idea how the dataset looks like."
   ]
  },
  {
   "cell_type": "code",
   "execution_count": 3,
   "id": "b1c422e0-7496-4cf0-81ba-21c4b7514d22",
   "metadata": {},
   "outputs": [
    {
     "data": {
      "text/html": [
       "<div>\n",
       "<style scoped>\n",
       "    .dataframe tbody tr th:only-of-type {\n",
       "        vertical-align: middle;\n",
       "    }\n",
       "\n",
       "    .dataframe tbody tr th {\n",
       "        vertical-align: top;\n",
       "    }\n",
       "\n",
       "    .dataframe thead th {\n",
       "        text-align: right;\n",
       "    }\n",
       "</style>\n",
       "<table border=\"1\" class=\"dataframe\">\n",
       "  <thead>\n",
       "    <tr style=\"text-align: right;\">\n",
       "      <th></th>\n",
       "      <th>date_posted</th>\n",
       "      <th>funny</th>\n",
       "      <th>helpful</th>\n",
       "      <th>hour_played</th>\n",
       "      <th>is_early_access_review</th>\n",
       "      <th>recommendation</th>\n",
       "      <th>review</th>\n",
       "      <th>title</th>\n",
       "    </tr>\n",
       "  </thead>\n",
       "  <tbody>\n",
       "    <tr>\n",
       "      <th>0</th>\n",
       "      <td>2019-02-10</td>\n",
       "      <td>2</td>\n",
       "      <td>4</td>\n",
       "      <td>578</td>\n",
       "      <td>False</td>\n",
       "      <td>Recommended</td>\n",
       "      <td>&amp;gt Played as German Reich&amp;gt Declare war on B...</td>\n",
       "      <td>Expansion - Hearts of Iron IV: Man the Guns</td>\n",
       "    </tr>\n",
       "    <tr>\n",
       "      <th>1</th>\n",
       "      <td>2019-02-10</td>\n",
       "      <td>0</td>\n",
       "      <td>0</td>\n",
       "      <td>184</td>\n",
       "      <td>False</td>\n",
       "      <td>Recommended</td>\n",
       "      <td>yes.</td>\n",
       "      <td>Expansion - Hearts of Iron IV: Man the Guns</td>\n",
       "    </tr>\n",
       "    <tr>\n",
       "      <th>2</th>\n",
       "      <td>2019-02-07</td>\n",
       "      <td>0</td>\n",
       "      <td>0</td>\n",
       "      <td>892</td>\n",
       "      <td>False</td>\n",
       "      <td>Recommended</td>\n",
       "      <td>Very good game although a bit overpriced in my...</td>\n",
       "      <td>Expansion - Hearts of Iron IV: Man the Guns</td>\n",
       "    </tr>\n",
       "    <tr>\n",
       "      <th>3</th>\n",
       "      <td>2018-06-14</td>\n",
       "      <td>126</td>\n",
       "      <td>1086</td>\n",
       "      <td>676</td>\n",
       "      <td>False</td>\n",
       "      <td>Recommended</td>\n",
       "      <td>Out of all the reviews I wrote This one is pro...</td>\n",
       "      <td>Dead by Daylight</td>\n",
       "    </tr>\n",
       "    <tr>\n",
       "      <th>4</th>\n",
       "      <td>2017-06-20</td>\n",
       "      <td>85</td>\n",
       "      <td>2139</td>\n",
       "      <td>612</td>\n",
       "      <td>False</td>\n",
       "      <td>Recommended</td>\n",
       "      <td>Disclaimer I survivor main. I play games for f...</td>\n",
       "      <td>Dead by Daylight</td>\n",
       "    </tr>\n",
       "  </tbody>\n",
       "</table>\n",
       "</div>"
      ],
      "text/plain": [
       "  date_posted  funny  helpful  hour_played  is_early_access_review  \\\n",
       "0  2019-02-10      2        4          578                   False   \n",
       "1  2019-02-10      0        0          184                   False   \n",
       "2  2019-02-07      0        0          892                   False   \n",
       "3  2018-06-14    126     1086          676                   False   \n",
       "4  2017-06-20     85     2139          612                   False   \n",
       "\n",
       "  recommendation                                             review  \\\n",
       "0    Recommended  &gt Played as German Reich&gt Declare war on B...   \n",
       "1    Recommended                                               yes.   \n",
       "2    Recommended  Very good game although a bit overpriced in my...   \n",
       "3    Recommended  Out of all the reviews I wrote This one is pro...   \n",
       "4    Recommended  Disclaimer I survivor main. I play games for f...   \n",
       "\n",
       "                                         title  \n",
       "0  Expansion - Hearts of Iron IV: Man the Guns  \n",
       "1  Expansion - Hearts of Iron IV: Man the Guns  \n",
       "2  Expansion - Hearts of Iron IV: Man the Guns  \n",
       "3                             Dead by Daylight  \n",
       "4                             Dead by Daylight  "
      ]
     },
     "execution_count": 3,
     "metadata": {},
     "output_type": "execute_result"
    }
   ],
   "source": [
    "DF.head()"
   ]
  },
  {
   "cell_type": "markdown",
   "id": "13f114e1",
   "metadata": {},
   "source": [
    "## Data Cleanning"
   ]
  },
  {
   "cell_type": "markdown",
   "id": "588ba391",
   "metadata": {},
   "source": [
    "Check the mean value and quantile value of helpful and hour played."
   ]
  },
  {
   "cell_type": "code",
   "execution_count": 4,
   "id": "5f44223b-c9f2-4bae-9e96-e1df4497cceb",
   "metadata": {},
   "outputs": [
    {
     "name": "stdout",
     "output_type": "stream",
     "text": [
      "The median of the amount of player who think the reviews is 0.0 \n",
      "\n",
      " The first quantile of hour played is 62.0 \n",
      "\n",
      " The third quantile of hour played is 450.0 \n",
      "\n",
      "\n"
     ]
    }
   ],
   "source": [
    "median_helpful = DF['helpful'].median()\n",
    "_1st_hour = DF['hour_played'].quantile(0.25)\n",
    "_3rd_hour = DF['hour_played'].quantile(0.75)\n",
    "print(\"The median of the amount of player who think the reviews is\",median_helpful,'\\n\\n',\n",
    "      \"The first quantile of hour played is\", _1st_hour,'\\n\\n',\n",
    "      \"The third quantile of hour played is\", _3rd_hour,'\\n\\n') \n",
    "#display(_1st_hour)\n",
    "#display(_3rd_hour)"
   ]
  },
  {
   "cell_type": "markdown",
   "id": "c0c83976",
   "metadata": {},
   "source": [
    "Generate a new label about the authentic of the reviews based on the helpful and hour played."
   ]
  },
  {
   "cell_type": "code",
   "execution_count": 5,
   "id": "a77d88e9-938e-484f-a906-2a12caf860e5",
   "metadata": {},
   "outputs": [],
   "source": [
    "authentic = [None]*len(DF)\n",
    "for i in range(0, len(DF)):\n",
    "    if DF.iloc[i,2] > median_helpful or DF.iloc[i,3] >= _3rd_hour:\n",
    "        authentic[i] = 'TRUE'\n",
    "    elif DF.iloc[i,2] <= median_helpful and DF.iloc[i,3] <= _1st_hour:\n",
    "        authentic[i] = 'FALSE'\n",
    "    else: \n",
    "        authentic[i] = 'SUSPEND'"
   ]
  },
  {
   "cell_type": "markdown",
   "id": "b6d7bbed",
   "metadata": {},
   "source": [
    "Insert the authnetic as the new column of the data."
   ]
  },
  {
   "cell_type": "code",
   "execution_count": 6,
   "id": "704d9813-4cdc-484f-a8aa-699ea402df9e",
   "metadata": {},
   "outputs": [],
   "source": [
    "DF.insert(8, 'authentic', pd.DataFrame(authentic))"
   ]
  },
  {
   "cell_type": "markdown",
   "id": "f669d2d8",
   "metadata": {},
   "source": [
    "Genterate the histogram of the authentic."
   ]
  },
  {
   "cell_type": "code",
   "execution_count": 7,
   "id": "cc301c22-6a4d-4735-8cfc-784b076e63b1",
   "metadata": {},
   "outputs": [],
   "source": [
    "fig = px.histogram(DF, x='authentic')\n",
    "#fig.show()"
   ]
  },
  {
   "cell_type": "markdown",
   "id": "0f96a875",
   "metadata": {},
   "source": [
    "Genterate the histogram of the recommendation."
   ]
  },
  {
   "cell_type": "code",
   "execution_count": 8,
   "id": "52eeb791-d65c-4395-97d7-2d87d79da41e",
   "metadata": {},
   "outputs": [],
   "source": [
    "fig = px.histogram(DF, x='recommendation')\n",
    "#fig.show()"
   ]
  },
  {
   "cell_type": "markdown",
   "id": "3570fc6d",
   "metadata": {},
   "source": [
    "Generate a stack bar plot for recommendation and authentic."
   ]
  },
  {
   "cell_type": "code",
   "execution_count": 9,
   "id": "08c2d663-f369-49b0-b320-147b0df93663",
   "metadata": {},
   "outputs": [],
   "source": [
    "fig = px.histogram(DF, x='recommendation',color=\"authentic\", title = 'Distribution of Labels',\n",
    "                   color_discrete_sequence=[\"lightgreen\", \"lightskyblue\", \"lightsalmon\"])\n",
    "#fig.show()\n",
    "fig.write_html(\"proposal_distribution of labels.html\")"
   ]
  },
  {
   "cell_type": "markdown",
   "id": "71f1484e",
   "metadata": {},
   "source": [
    "Create a function to clean the text data."
   ]
  },
  {
   "cell_type": "code",
   "execution_count": 10,
   "id": "ddefeed0-c180-4148-b9e5-22d5c16616d8",
   "metadata": {},
   "outputs": [],
   "source": [
    "def preprocess(str_arg):\n",
    "        cleaned_str=re.sub('[^a-z\\s]+',' ',str(str_arg), flags=re.IGNORECASE) #every char except alphabets is replaced\n",
    "        cleaned_str=re.sub('(\\s+)',' ',cleaned_str) #multiple spaces are replaced by single space\n",
    "        cleaned_str=cleaned_str.lower() #converting the cleaned string to lower case\n",
    "        \n",
    "        return cleaned_str # returning the preprocessed string"
   ]
  },
  {
   "cell_type": "markdown",
   "id": "a55e68a5",
   "metadata": {},
   "source": [
    "Create a histogram for the lenght of reviews."
   ]
  },
  {
   "cell_type": "code",
   "execution_count": 11,
   "id": "c4915a04-2cdf-465f-bf80-46258dfce5e0",
   "metadata": {},
   "outputs": [
    {
     "data": {
      "text/plain": [
       "(array([19872., 33919., 25316., 20521., 19089., 16676., 14318., 12864.,\n",
       "        11895., 11094.,  9994.,  9290.,  8611.,  8057.,  7288.,  6907.,\n",
       "         6577.,  5999.,  5775.,  5446.,  5098.,  4909.,  4634.,  4287.,\n",
       "         4175.,  3781.,  3784.,  3497.,  3361.,  3171.,  3134.,  3038.,\n",
       "         2853.,  2729.,  2651.,  2535.,  2463.,  2295.,  2195.,  2232.,\n",
       "         2088.,  2049.,  1980.,  1916.,  1893.,  1795.,  1887.,  1803.,\n",
       "         1657.,     0.,  1616.,  1561.,  1547.,  1455.,  1447.,  1470.,\n",
       "         1382.,  1341.,  1230.,  1185.,  1187.,  1215.,  1181.,  1152.,\n",
       "         1060.,  1115.,  1036.,  1040.,   989.,   977.,   993.,   964.,\n",
       "          997.,   860.,   852.,   862.,   880.,   854.,   812.,   848.,\n",
       "          784.,   757.,   776.,   791.,   699.,   686.,   675.,   666.,\n",
       "          653.,   651.,   629.,   624.,   621.,   566.,   595.,   646.,\n",
       "          580.,   613.,   590.,   538.]),\n",
       " array([ 1.  ,  1.98,  2.96,  3.94,  4.92,  5.9 ,  6.88,  7.86,  8.84,\n",
       "         9.82, 10.8 , 11.78, 12.76, 13.74, 14.72, 15.7 , 16.68, 17.66,\n",
       "        18.64, 19.62, 20.6 , 21.58, 22.56, 23.54, 24.52, 25.5 , 26.48,\n",
       "        27.46, 28.44, 29.42, 30.4 , 31.38, 32.36, 33.34, 34.32, 35.3 ,\n",
       "        36.28, 37.26, 38.24, 39.22, 40.2 , 41.18, 42.16, 43.14, 44.12,\n",
       "        45.1 , 46.08, 47.06, 48.04, 49.02, 50.  , 50.98, 51.96, 52.94,\n",
       "        53.92, 54.9 , 55.88, 56.86, 57.84, 58.82, 59.8 , 60.78, 61.76,\n",
       "        62.74, 63.72, 64.7 , 65.68, 66.66, 67.64, 68.62, 69.6 , 70.58,\n",
       "        71.56, 72.54, 73.52, 74.5 , 75.48, 76.46, 77.44, 78.42, 79.4 ,\n",
       "        80.38, 81.36, 82.34, 83.32, 84.3 , 85.28, 86.26, 87.24, 88.22,\n",
       "        89.2 , 90.18, 91.16, 92.14, 93.12, 94.1 , 95.08, 96.06, 97.04,\n",
       "        98.02, 99.  ]),\n",
       " <BarContainer object of 100 artists>)"
      ]
     },
     "execution_count": 11,
     "metadata": {},
     "output_type": "execute_result"
    },
    {
     "data": {
      "image/png": "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",
      "text/plain": [
       "<Figure size 432x288 with 1 Axes>"
      ]
     },
     "metadata": {
      "needs_background": "light"
     },
     "output_type": "display_data"
    }
   ],
   "source": [
    "DF_len = [None]*len(DF)\n",
    "for i in range(0, len(DF)):\n",
    "    DF_len[i] = len(preprocess(DF.iloc[i,6]).split(' '))\n",
    "DF_len = pd.DataFrame({'length': DF_len})\n",
    "plt.figure()\n",
    "plt.hist(DF_len[DF_len['length']<100], bins = 100)"
   ]
  },
  {
   "cell_type": "markdown",
   "id": "283ae257",
   "metadata": {},
   "source": [
    "After remove all stopwords, numeric, symbol and other meaningless words, some reviews may only left just a few words. We think if there are only a few meaningful words in a reviews, this review may not be meaningful. Hence we only keep reviews which have more than 5 meaningful words."
   ]
  },
  {
   "cell_type": "code",
   "execution_count": 12,
   "id": "aee01bc4-c18d-411f-ab8f-09b1bc5a178a",
   "metadata": {},
   "outputs": [],
   "source": [
    "DF_Clean = DF[DF_len['length']>=5]"
   ]
  },
  {
   "cell_type": "markdown",
   "id": "0ae11e5b",
   "metadata": {},
   "source": [
    "Clean the text data."
   ]
  },
  {
   "cell_type": "code",
   "execution_count": 13,
   "id": "d9942538-2d47-425f-a4cd-8da293614a10",
   "metadata": {},
   "outputs": [
    {
     "data": {
      "text/html": [
       "<div>\n",
       "<style scoped>\n",
       "    .dataframe tbody tr th:only-of-type {\n",
       "        vertical-align: middle;\n",
       "    }\n",
       "\n",
       "    .dataframe tbody tr th {\n",
       "        vertical-align: top;\n",
       "    }\n",
       "\n",
       "    .dataframe thead th {\n",
       "        text-align: right;\n",
       "    }\n",
       "</style>\n",
       "<table border=\"1\" class=\"dataframe\">\n",
       "  <thead>\n",
       "    <tr style=\"text-align: right;\">\n",
       "      <th></th>\n",
       "      <th>review</th>\n",
       "    </tr>\n",
       "  </thead>\n",
       "  <tbody>\n",
       "    <tr>\n",
       "      <th>0</th>\n",
       "      <td>gt played as german reich gt declare war on b...</td>\n",
       "    </tr>\n",
       "    <tr>\n",
       "      <th>1</th>\n",
       "      <td>very good game although a bit overpriced in my...</td>\n",
       "    </tr>\n",
       "    <tr>\n",
       "      <th>2</th>\n",
       "      <td>out of all the reviews i wrote this one is pro...</td>\n",
       "    </tr>\n",
       "    <tr>\n",
       "      <th>3</th>\n",
       "      <td>disclaimer i survivor main i play games for fu...</td>\n",
       "    </tr>\n",
       "    <tr>\n",
       "      <th>4</th>\n",
       "      <td>english after playing for more than two years ...</td>\n",
       "    </tr>\n",
       "  </tbody>\n",
       "</table>\n",
       "</div>"
      ],
      "text/plain": [
       "                                              review\n",
       "0   gt played as german reich gt declare war on b...\n",
       "1  very good game although a bit overpriced in my...\n",
       "2  out of all the reviews i wrote this one is pro...\n",
       "3  disclaimer i survivor main i play games for fu...\n",
       "4  english after playing for more than two years ..."
      ]
     },
     "execution_count": 13,
     "metadata": {},
     "output_type": "execute_result"
    }
   ],
   "source": [
    "DF_Clean_list = [None] * len(DF_Clean)\n",
    "for i in range(0, len(DF_Clean)):\n",
    "    DF_Clean_list[i] = preprocess(DF_Clean.iloc[i,6])\n",
    "DF_Clean_DF = pd.DataFrame({'review': DF_Clean_list})\n",
    "DF_Clean_DF.head()"
   ]
  },
  {
   "cell_type": "markdown",
   "id": "0670f3e2",
   "metadata": {},
   "source": [
    "Create the cleaned dataset."
   ]
  },
  {
   "cell_type": "code",
   "execution_count": 14,
   "id": "2200526b-a3f4-43de-9e2e-b1a2bb068800",
   "metadata": {},
   "outputs": [
    {
     "data": {
      "text/html": [
       "<div>\n",
       "<style scoped>\n",
       "    .dataframe tbody tr th:only-of-type {\n",
       "        vertical-align: middle;\n",
       "    }\n",
       "\n",
       "    .dataframe tbody tr th {\n",
       "        vertical-align: top;\n",
       "    }\n",
       "\n",
       "    .dataframe thead th {\n",
       "        text-align: right;\n",
       "    }\n",
       "</style>\n",
       "<table border=\"1\" class=\"dataframe\">\n",
       "  <thead>\n",
       "    <tr style=\"text-align: right;\">\n",
       "      <th></th>\n",
       "      <th>date_posted</th>\n",
       "      <th>funny</th>\n",
       "      <th>helpful</th>\n",
       "      <th>hour_played</th>\n",
       "      <th>is_early_access_review</th>\n",
       "      <th>recommendation</th>\n",
       "      <th>title</th>\n",
       "      <th>authentic</th>\n",
       "      <th>review</th>\n",
       "    </tr>\n",
       "  </thead>\n",
       "  <tbody>\n",
       "    <tr>\n",
       "      <th>0</th>\n",
       "      <td>2019-02-10</td>\n",
       "      <td>2</td>\n",
       "      <td>4</td>\n",
       "      <td>578</td>\n",
       "      <td>False</td>\n",
       "      <td>Recommended</td>\n",
       "      <td>Expansion - Hearts of Iron IV: Man the Guns</td>\n",
       "      <td>TRUE</td>\n",
       "      <td>gt played as german reich gt declare war on b...</td>\n",
       "    </tr>\n",
       "    <tr>\n",
       "      <th>1</th>\n",
       "      <td>2019-02-07</td>\n",
       "      <td>0</td>\n",
       "      <td>0</td>\n",
       "      <td>892</td>\n",
       "      <td>False</td>\n",
       "      <td>Recommended</td>\n",
       "      <td>Expansion - Hearts of Iron IV: Man the Guns</td>\n",
       "      <td>TRUE</td>\n",
       "      <td>very good game although a bit overpriced in my...</td>\n",
       "    </tr>\n",
       "    <tr>\n",
       "      <th>2</th>\n",
       "      <td>2018-06-14</td>\n",
       "      <td>126</td>\n",
       "      <td>1086</td>\n",
       "      <td>676</td>\n",
       "      <td>False</td>\n",
       "      <td>Recommended</td>\n",
       "      <td>Dead by Daylight</td>\n",
       "      <td>TRUE</td>\n",
       "      <td>out of all the reviews i wrote this one is pro...</td>\n",
       "    </tr>\n",
       "    <tr>\n",
       "      <th>3</th>\n",
       "      <td>2017-06-20</td>\n",
       "      <td>85</td>\n",
       "      <td>2139</td>\n",
       "      <td>612</td>\n",
       "      <td>False</td>\n",
       "      <td>Recommended</td>\n",
       "      <td>Dead by Daylight</td>\n",
       "      <td>TRUE</td>\n",
       "      <td>disclaimer i survivor main i play games for fu...</td>\n",
       "    </tr>\n",
       "    <tr>\n",
       "      <th>4</th>\n",
       "      <td>2016-12-12</td>\n",
       "      <td>4</td>\n",
       "      <td>55</td>\n",
       "      <td>2694</td>\n",
       "      <td>False</td>\n",
       "      <td>Recommended</td>\n",
       "      <td>Dead by Daylight</td>\n",
       "      <td>TRUE</td>\n",
       "      <td>english after playing for more than two years ...</td>\n",
       "    </tr>\n",
       "  </tbody>\n",
       "</table>\n",
       "</div>"
      ],
      "text/plain": [
       "  date_posted  funny  helpful  hour_played  is_early_access_review  \\\n",
       "0  2019-02-10      2        4          578                   False   \n",
       "1  2019-02-07      0        0          892                   False   \n",
       "2  2018-06-14    126     1086          676                   False   \n",
       "3  2017-06-20     85     2139          612                   False   \n",
       "4  2016-12-12      4       55         2694                   False   \n",
       "\n",
       "  recommendation                                        title authentic  \\\n",
       "0    Recommended  Expansion - Hearts of Iron IV: Man the Guns      TRUE   \n",
       "1    Recommended  Expansion - Hearts of Iron IV: Man the Guns      TRUE   \n",
       "2    Recommended                             Dead by Daylight      TRUE   \n",
       "3    Recommended                             Dead by Daylight      TRUE   \n",
       "4    Recommended                             Dead by Daylight      TRUE   \n",
       "\n",
       "                                              review  \n",
       "0   gt played as german reich gt declare war on b...  \n",
       "1  very good game although a bit overpriced in my...  \n",
       "2  out of all the reviews i wrote this one is pro...  \n",
       "3  disclaimer i survivor main i play games for fu...  \n",
       "4  english after playing for more than two years ...  "
      ]
     },
     "execution_count": 14,
     "metadata": {},
     "output_type": "execute_result"
    }
   ],
   "source": [
    "DF_Clean = DF_Clean.drop('review',axis=1)\n",
    "DF_Clean = DF_Clean.reset_index(drop=True)\n",
    "DF_Clean.insert(8,'review',DF_Clean_DF)\n",
    "DF_Clean.head()"
   ]
  },
  {
   "cell_type": "markdown",
   "id": "208e0d9d",
   "metadata": {},
   "source": [
    "Create the histogram of authentic."
   ]
  },
  {
   "cell_type": "code",
   "execution_count": 15,
   "id": "41dbb723-d519-44f4-a88a-0b3d3e1f4b3a",
   "metadata": {},
   "outputs": [],
   "source": [
    "fig = px.histogram(DF_Clean, x='authentic')\n",
    "#fig.show()"
   ]
  },
  {
   "cell_type": "markdown",
   "id": "4c2142d1",
   "metadata": {},
   "source": [
    "Create the histogram of recommendation."
   ]
  },
  {
   "cell_type": "code",
   "execution_count": 16,
   "id": "a9f74302-3e66-4a4e-9542-2c8da170550f",
   "metadata": {},
   "outputs": [],
   "source": [
    "fig = px.histogram(DF_Clean, x='recommendation')\n",
    "#fig.show()"
   ]
  },
  {
   "cell_type": "markdown",
   "id": "778fa6b6",
   "metadata": {},
   "source": [
    "Create the stacked bar plot for recommnedation and authentic."
   ]
  },
  {
   "cell_type": "code",
<<<<<<< HEAD
   "execution_count": 17,
=======
   "execution_count": 82,
>>>>>>> b61fef36c8a84f935d2e300ebc0c7c63089d1131
   "id": "a116dccf-62eb-4364-9fb9-ccdbdc2e72d2",
   "metadata": {},
   "outputs": [],
   "source": [
    "fig = px.histogram(DF_Clean, x='recommendation',color=\"authentic\", title = 'Distribution of Labels',\n",
    "                   color_discrete_sequence=[\"lightgreen\", \"lightskyblue\", \"lightsalmon\"])\n",
    "#fig.show()\n",
    "fig.write_html(\"proposal_distribution of labels.html\")"
   ]
  },
  {
   "cell_type": "markdown",
   "id": "679fcdae",
   "metadata": {},
   "source": [
    "Keep the columns which we need for the following machine learning."
   ]
  },
  {
   "cell_type": "code",
   "execution_count": 18,
   "id": "7e5b2863-d027-49fd-b1b2-6a7f35009bb9",
   "metadata": {},
   "outputs": [],
   "source": [
    "MYDF_Clean = pd.DataFrame({'review':DF_Clean['review'], 'recommendation':DF_Clean['recommendation'], 'authentic':DF_Clean['authentic']})"
   ]
  },
  {
   "cell_type": "markdown",
   "id": "8eeacc02",
   "metadata": {},
   "source": [
    "Show the first 5 lines of the analysis data."
   ]
  },
  {
   "cell_type": "code",
<<<<<<< HEAD
   "execution_count": 19,
   "id": "2e5e9ab3-abe9-4291-9896-de8884626222",
   "metadata": {},
   "outputs": [
    {
     "data": {
      "text/html": [
       "<div>\n",
       "<style scoped>\n",
       "    .dataframe tbody tr th:only-of-type {\n",
       "        vertical-align: middle;\n",
       "    }\n",
       "\n",
       "    .dataframe tbody tr th {\n",
       "        vertical-align: top;\n",
       "    }\n",
       "\n",
       "    .dataframe thead th {\n",
       "        text-align: right;\n",
       "    }\n",
       "</style>\n",
       "<table border=\"1\" class=\"dataframe\">\n",
       "  <thead>\n",
       "    <tr style=\"text-align: right;\">\n",
       "      <th></th>\n",
       "      <th>review</th>\n",
       "      <th>recommendation</th>\n",
       "      <th>authentic</th>\n",
       "    </tr>\n",
       "  </thead>\n",
       "  <tbody>\n",
       "    <tr>\n",
       "      <th>0</th>\n",
       "      <td>gt played as german reich gt declare war on b...</td>\n",
       "      <td>Recommended</td>\n",
       "      <td>TRUE</td>\n",
       "    </tr>\n",
       "    <tr>\n",
       "      <th>1</th>\n",
       "      <td>very good game although a bit overpriced in my...</td>\n",
       "      <td>Recommended</td>\n",
       "      <td>TRUE</td>\n",
       "    </tr>\n",
       "    <tr>\n",
       "      <th>2</th>\n",
       "      <td>out of all the reviews i wrote this one is pro...</td>\n",
       "      <td>Recommended</td>\n",
       "      <td>TRUE</td>\n",
       "    </tr>\n",
       "    <tr>\n",
       "      <th>3</th>\n",
       "      <td>disclaimer i survivor main i play games for fu...</td>\n",
       "      <td>Recommended</td>\n",
       "      <td>TRUE</td>\n",
       "    </tr>\n",
       "    <tr>\n",
       "      <th>4</th>\n",
       "      <td>english after playing for more than two years ...</td>\n",
       "      <td>Recommended</td>\n",
       "      <td>TRUE</td>\n",
       "    </tr>\n",
       "  </tbody>\n",
       "</table>\n",
       "</div>"
      ],
      "text/plain": [
       "                                              review recommendation authentic\n",
       "0   gt played as german reich gt declare war on b...    Recommended      TRUE\n",
       "1  very good game although a bit overpriced in my...    Recommended      TRUE\n",
       "2  out of all the reviews i wrote this one is pro...    Recommended      TRUE\n",
       "3  disclaimer i survivor main i play games for fu...    Recommended      TRUE\n",
       "4  english after playing for more than two years ...    Recommended      TRUE"
      ]
     },
     "execution_count": 19,
     "metadata": {},
     "output_type": "execute_result"
    }
   ],
=======
   "execution_count": 76,
   "id": "60ba1baf-adfa-4541-a7f8-0c4bacb21fca",
   "metadata": {},
   "outputs": [],
>>>>>>> b61fef36c8a84f935d2e300ebc0c7c63089d1131
   "source": [
    "MYDF_Clean.head()"
   ]
  },
  {
   "cell_type": "code",
<<<<<<< HEAD
   "execution_count": 20,
   "id": "8d838b0c",
   "metadata": {},
   "outputs": [],
   "source": [
    "MYDF_Clean.to_csv('data/Steam_Clean_Data.csv',index=False,sep=',')"
   ]
  },
  {
   "cell_type": "markdown",
   "id": "3a1acb63",
   "metadata": {},
   "source": [
    "Train test split by recommendation."
=======
   "execution_count": 86,
   "id": "31a3ab49-f0a4-4a91-adc8-81c8a8ccc73c",
   "metadata": {},
   "outputs": [],
   "source": [
    "MYDF_Clean.to_csv('Steam_Clean_Data.csv',index=False,sep=',')"
>>>>>>> b61fef36c8a84f935d2e300ebc0c7c63089d1131
   ]
  },
  {
   "cell_type": "code",
<<<<<<< HEAD
   "execution_count": 21,
   "id": "92a2e7e9",
   "metadata": {},
   "outputs": [],
   "source": [
    "Train_reco,Test_reco = train_test_split(MYDF_Clean, test_size = 0.25, stratify=MYDF_Clean['recommendation'], random_state = 580)"
   ]
  },
  {
   "cell_type": "markdown",
   "id": "708094b8",
   "metadata": {},
   "source": [
    "Train test split by authentic."
=======
   "execution_count": 89,
   "id": "7a2f61a7-8356-4586-8e55-79433829da35",
   "metadata": {},
   "outputs": [],
   "source": [
    "Train_reco,Test_reco = train_test_split(MYDF_Clean, test_size = 0.25, stratify=MYDF_Clean['recommendation'], random_state = 580) "
>>>>>>> b61fef36c8a84f935d2e300ebc0c7c63089d1131
   ]
  },
  {
   "cell_type": "code",
<<<<<<< HEAD
   "execution_count": 22,
   "id": "1c9c2ff0",
   "metadata": {},
   "outputs": [],
   "source": [
    "Train_auth,Test_auth = train_test_split(MYDF_Clean, test_size = 0.25, stratify=MYDF_Clean['authentic'], random_state = 580)"
   ]
  },
  {
   "cell_type": "markdown",
   "id": "f124261c",
   "metadata": {},
   "source": [
    "Save train and test datas to local csv."
=======
   "execution_count": 90,
   "id": "fa08f258-43f7-467f-9d2b-6618f2f7d6d0",
   "metadata": {},
   "outputs": [],
   "source": [
    "Train_auth,Test_auth = train_test_split(MYDF_Clean, test_size = 0.25, stratify=MYDF_Clean['authentic'], random_state = 580) "
>>>>>>> b61fef36c8a84f935d2e300ebc0c7c63089d1131
   ]
  },
  {
   "cell_type": "code",
<<<<<<< HEAD
   "execution_count": 23,
   "id": "834a4215",
   "metadata": {},
   "outputs": [],
   "source": [
    "Train_reco.to_csv('data/Train_reco.csv',index=False,sep=',')\n",
    "Test_reco.to_csv('data/Test_reco.csv',index=False,sep=',')\n",
    "Train_auth.to_csv('data/Train_auth.csv',index=False,sep=',')\n",
    "Test_auth.to_csv('data/Test_auth.csv',index=False,sep=',')"
   ]
  },
  {
   "cell_type": "markdown",
   "id": "ad487bd2",
   "metadata": {},
   "source": [
    "Zip the files"
   ]
  },
  {
   "cell_type": "markdown",
   "id": "78c530d3",
   "metadata": {},
=======
   "execution_count": 95,
   "id": "82105e94-5a22-4355-b56f-a62e25f19843",
   "metadata": {},
   "outputs": [],
   "source": [
    "Train_reco.to_csv('Train_reco.csv',index=False,sep=',')\n",
    "Test_reco.to_csv('Test_reco.csv',index=False,sep=',')\n",
    "Train_auth.to_csv('Train_auth.csv',index=False,sep=',')\n",
    "Test_auth.to_csv('Test_auth.csv',index=False,sep=',')"
   ]
  },
  {
   "cell_type": "code",
   "execution_count": 98,
   "id": "7d389135-f645-4447-a1e4-185f2dfa4419",
   "metadata": {},
   "outputs": [],
>>>>>>> b61fef36c8a84f935d2e300ebc0c7c63089d1131
   "source": [
    "import zipfile\n",
    "with zipfile.ZipFile('Clean_Data_Set.zip',mode='a') as f:\n",
    "    f.write('Steam_Clean_Data.csv')\n",
    "    f.write('Train_reco.csv')\n",
    "    f.write('Test_reco.csv')\n",
    "    f.write('Train_auth.csv')\n",
    "    f.write('Test_auth.csv')\n",
    "\n",
    "f.close()"
   ]
<<<<<<< HEAD
=======
  },
  {
   "cell_type": "code",
   "execution_count": null,
   "id": "0776e545-def1-429c-8dc8-3f5795b892a3",
   "metadata": {},
   "outputs": [],
   "source": []
>>>>>>> b61fef36c8a84f935d2e300ebc0c7c63089d1131
  }
 ],
 "metadata": {
  "kernelspec": {
   "display_name": "Python 3",
   "language": "python",
   "name": "python3"
  },
  "language_info": {
   "codemirror_mode": {
    "name": "ipython",
    "version": 3
   },
   "file_extension": ".py",
   "mimetype": "text/x-python",
   "name": "python",
   "nbconvert_exporter": "python",
   "pygments_lexer": "ipython3",
   "version": "3.8.5"
  }
 },
 "nbformat": 4,
 "nbformat_minor": 5
}
