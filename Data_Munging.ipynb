{
 "cells": [
  {
   "cell_type": "markdown",
   "id": "1298f82d",
   "metadata": {},
   "source": [
    "# Data Munging"
   ]
  },
  {
   "cell_type": "markdown",
   "id": "10ddad26",
   "metadata": {},
   "source": [
    "## Load Pacakage"
   ]
  },
  {
   "cell_type": "code",
   "execution_count": 31,
   "id": "e0fe47ec",
   "metadata": {},
   "outputs": [],
   "source": [
    "import plotly.express as px\n",
    "import pandas as pd\n",
    "import numpy as np\n",
    "import re\n",
    "import matplotlib.pyplot as plt\n",
    "from wordcloud import WordCloud\n",
    "import random\n",
    "from sklearn.model_selection import train_test_split"
   ]
  },
  {
   "cell_type": "markdown",
   "id": "1ae9449a",
   "metadata": {},
   "source": [
    "## Load data"
   ]
  },
  {
   "cell_type": "code",
   "execution_count": 32,
   "id": "b9d19fe8-cd95-4b8a-9c7c-32eb1513e121",
   "metadata": {},
   "outputs": [
    {
     "data": {
      "text/html": [
       "<div>\n",
       "<style scoped>\n",
       "    .dataframe tbody tr th:only-of-type {\n",
       "        vertical-align: middle;\n",
       "    }\n",
       "\n",
       "    .dataframe tbody tr th {\n",
       "        vertical-align: top;\n",
       "    }\n",
       "\n",
       "    .dataframe thead th {\n",
       "        text-align: right;\n",
       "    }\n",
       "</style>\n",
       "<table border=\"1\" class=\"dataframe\">\n",
       "  <thead>\n",
       "    <tr style=\"text-align: right;\">\n",
       "      <th></th>\n",
       "      <th>date_posted</th>\n",
       "      <th>funny</th>\n",
       "      <th>helpful</th>\n",
       "      <th>hour_played</th>\n",
       "      <th>is_early_access_review</th>\n",
       "      <th>recommendation</th>\n",
       "      <th>review</th>\n",
       "      <th>title</th>\n",
       "    </tr>\n",
       "  </thead>\n",
       "  <tbody>\n",
       "    <tr>\n",
       "      <th>0</th>\n",
       "      <td>2019-02-10</td>\n",
       "      <td>2</td>\n",
       "      <td>4</td>\n",
       "      <td>578</td>\n",
       "      <td>False</td>\n",
       "      <td>Recommended</td>\n",
       "      <td>&amp;gt Played as German Reich&amp;gt Declare war on B...</td>\n",
       "      <td>Expansion - Hearts of Iron IV: Man the Guns</td>\n",
       "    </tr>\n",
       "    <tr>\n",
       "      <th>1</th>\n",
       "      <td>2019-02-10</td>\n",
       "      <td>0</td>\n",
       "      <td>0</td>\n",
       "      <td>184</td>\n",
       "      <td>False</td>\n",
       "      <td>Recommended</td>\n",
       "      <td>yes.</td>\n",
       "      <td>Expansion - Hearts of Iron IV: Man the Guns</td>\n",
       "    </tr>\n",
       "    <tr>\n",
       "      <th>2</th>\n",
       "      <td>2019-02-07</td>\n",
       "      <td>0</td>\n",
       "      <td>0</td>\n",
       "      <td>892</td>\n",
       "      <td>False</td>\n",
       "      <td>Recommended</td>\n",
       "      <td>Very good game although a bit overpriced in my...</td>\n",
       "      <td>Expansion - Hearts of Iron IV: Man the Guns</td>\n",
       "    </tr>\n",
       "    <tr>\n",
       "      <th>3</th>\n",
       "      <td>2018-06-14</td>\n",
       "      <td>126</td>\n",
       "      <td>1086</td>\n",
       "      <td>676</td>\n",
       "      <td>False</td>\n",
       "      <td>Recommended</td>\n",
       "      <td>Out of all the reviews I wrote This one is pro...</td>\n",
       "      <td>Dead by Daylight</td>\n",
       "    </tr>\n",
       "    <tr>\n",
       "      <th>4</th>\n",
       "      <td>2017-06-20</td>\n",
       "      <td>85</td>\n",
       "      <td>2139</td>\n",
       "      <td>612</td>\n",
       "      <td>False</td>\n",
       "      <td>Recommended</td>\n",
       "      <td>Disclaimer I survivor main. I play games for f...</td>\n",
       "      <td>Dead by Daylight</td>\n",
       "    </tr>\n",
       "  </tbody>\n",
       "</table>\n",
       "</div>"
      ],
      "text/plain": [
       "  date_posted  funny  helpful  hour_played  is_early_access_review  \\\n",
       "0  2019-02-10      2        4          578                   False   \n",
       "1  2019-02-10      0        0          184                   False   \n",
       "2  2019-02-07      0        0          892                   False   \n",
       "3  2018-06-14    126     1086          676                   False   \n",
       "4  2017-06-20     85     2139          612                   False   \n",
       "\n",
       "  recommendation                                             review  \\\n",
       "0    Recommended  &gt Played as German Reich&gt Declare war on B...   \n",
       "1    Recommended                                               yes.   \n",
       "2    Recommended  Very good game although a bit overpriced in my...   \n",
       "3    Recommended  Out of all the reviews I wrote This one is pro...   \n",
       "4    Recommended  Disclaimer I survivor main. I play games for f...   \n",
       "\n",
       "                                         title  \n",
       "0  Expansion - Hearts of Iron IV: Man the Guns  \n",
       "1  Expansion - Hearts of Iron IV: Man the Guns  \n",
       "2  Expansion - Hearts of Iron IV: Man the Guns  \n",
       "3                             Dead by Daylight  \n",
       "4                             Dead by Daylight  "
      ]
     },
     "execution_count": 32,
     "metadata": {},
     "output_type": "execute_result"
    }
   ],
   "source": [
    "DF = pd.read_csv('data/steam_reviews.csv')\n",
    "DF.head()"
   ]
  },
  {
   "cell_type": "code",
   "execution_count": 33,
   "id": "b1c422e0-7496-4cf0-81ba-21c4b7514d22",
   "metadata": {},
   "outputs": [
    {
     "data": {
      "text/html": [
       "<div>\n",
       "<style scoped>\n",
       "    .dataframe tbody tr th:only-of-type {\n",
       "        vertical-align: middle;\n",
       "    }\n",
       "\n",
       "    .dataframe tbody tr th {\n",
       "        vertical-align: top;\n",
       "    }\n",
       "\n",
       "    .dataframe thead th {\n",
       "        text-align: right;\n",
       "    }\n",
       "</style>\n",
       "<table border=\"1\" class=\"dataframe\">\n",
       "  <thead>\n",
       "    <tr style=\"text-align: right;\">\n",
       "      <th></th>\n",
       "      <th>date_posted</th>\n",
       "      <th>funny</th>\n",
       "      <th>helpful</th>\n",
       "      <th>hour_played</th>\n",
       "      <th>is_early_access_review</th>\n",
       "      <th>recommendation</th>\n",
       "      <th>review</th>\n",
       "      <th>title</th>\n",
       "    </tr>\n",
       "  </thead>\n",
       "  <tbody>\n",
       "    <tr>\n",
       "      <th>0</th>\n",
       "      <td>2019-02-10</td>\n",
       "      <td>2</td>\n",
       "      <td>4</td>\n",
       "      <td>578</td>\n",
       "      <td>False</td>\n",
       "      <td>Recommended</td>\n",
       "      <td>&amp;gt Played as German Reich&amp;gt Declare war on B...</td>\n",
       "      <td>Expansion - Hearts of Iron IV: Man the Guns</td>\n",
       "    </tr>\n",
       "    <tr>\n",
       "      <th>1</th>\n",
       "      <td>2019-02-10</td>\n",
       "      <td>0</td>\n",
       "      <td>0</td>\n",
       "      <td>184</td>\n",
       "      <td>False</td>\n",
       "      <td>Recommended</td>\n",
       "      <td>yes.</td>\n",
       "      <td>Expansion - Hearts of Iron IV: Man the Guns</td>\n",
       "    </tr>\n",
       "    <tr>\n",
       "      <th>2</th>\n",
       "      <td>2019-02-07</td>\n",
       "      <td>0</td>\n",
       "      <td>0</td>\n",
       "      <td>892</td>\n",
       "      <td>False</td>\n",
       "      <td>Recommended</td>\n",
       "      <td>Very good game although a bit overpriced in my...</td>\n",
       "      <td>Expansion - Hearts of Iron IV: Man the Guns</td>\n",
       "    </tr>\n",
       "    <tr>\n",
       "      <th>3</th>\n",
       "      <td>2018-06-14</td>\n",
       "      <td>126</td>\n",
       "      <td>1086</td>\n",
       "      <td>676</td>\n",
       "      <td>False</td>\n",
       "      <td>Recommended</td>\n",
       "      <td>Out of all the reviews I wrote This one is pro...</td>\n",
       "      <td>Dead by Daylight</td>\n",
       "    </tr>\n",
       "    <tr>\n",
       "      <th>4</th>\n",
       "      <td>2017-06-20</td>\n",
       "      <td>85</td>\n",
       "      <td>2139</td>\n",
       "      <td>612</td>\n",
       "      <td>False</td>\n",
       "      <td>Recommended</td>\n",
       "      <td>Disclaimer I survivor main. I play games for f...</td>\n",
       "      <td>Dead by Daylight</td>\n",
       "    </tr>\n",
       "  </tbody>\n",
       "</table>\n",
       "</div>"
      ],
      "text/plain": [
       "  date_posted  funny  helpful  hour_played  is_early_access_review  \\\n",
       "0  2019-02-10      2        4          578                   False   \n",
       "1  2019-02-10      0        0          184                   False   \n",
       "2  2019-02-07      0        0          892                   False   \n",
       "3  2018-06-14    126     1086          676                   False   \n",
       "4  2017-06-20     85     2139          612                   False   \n",
       "\n",
       "  recommendation                                             review  \\\n",
       "0    Recommended  &gt Played as German Reich&gt Declare war on B...   \n",
       "1    Recommended                                               yes.   \n",
       "2    Recommended  Very good game although a bit overpriced in my...   \n",
       "3    Recommended  Out of all the reviews I wrote This one is pro...   \n",
       "4    Recommended  Disclaimer I survivor main. I play games for f...   \n",
       "\n",
       "                                         title  \n",
       "0  Expansion - Hearts of Iron IV: Man the Guns  \n",
       "1  Expansion - Hearts of Iron IV: Man the Guns  \n",
       "2  Expansion - Hearts of Iron IV: Man the Guns  \n",
       "3                             Dead by Daylight  \n",
       "4                             Dead by Daylight  "
      ]
     },
     "execution_count": 33,
     "metadata": {},
     "output_type": "execute_result"
    }
   ],
   "source": [
    "DF.head()"
   ]
  },
  {
   "cell_type": "markdown",
   "id": "7f98c812",
   "metadata": {},
   "source": [
    "Check the quantile of hour played and helpful amount"
   ]
  },
  {
   "cell_type": "code",
   "execution_count": 34,
   "id": "5f44223b-c9f2-4bae-9e96-e1df4497cceb",
   "metadata": {},
   "outputs": [
    {
     "name": "stdout",
     "output_type": "stream",
     "text": [
      "0.0 62.0 450.0 364.13077299829155\n"
     ]
    }
   ],
   "source": [
    "median_helpful = DF['helpful'].median()\n",
    "_1st_hour = DF['hour_played'].quantile(0.25)\n",
    "_3rd_hour = DF['hour_played'].quantile(0.75)\n",
    "mean_hour=DF['hour_played'].mean()\n",
    "print(median_helpful, _1st_hour, _3rd_hour,mean_hour)"
   ]
  },
  {
   "cell_type": "markdown",
   "id": "ce1ac460",
   "metadata": {},
   "source": [
    "Generate a new label by hour_played and helpful."
   ]
  },
  {
   "cell_type": "code",
   "execution_count": 35,
   "id": "a77d88e9-938e-484f-a906-2a12caf860e5",
   "metadata": {},
   "outputs": [],
   "source": [
    "authentic = [None]*len(DF)\n",
    "for i in range(0, len(DF)):\n",
    "    if DF.iloc[i,2] > median_helpful or DF.iloc[i,3] >= mean_hour:\n",
    "        authentic[i] = 'TRUE'\n",
    "    else:\n",
    "        authentic[i] = 'FALSE'"
   ]
  },
  {
   "cell_type": "markdown",
   "id": "dbff4b37",
   "metadata": {},
   "source": [
    "Inset authentic label into dataframe."
   ]
  },
  {
   "cell_type": "code",
   "execution_count": 36,
   "id": "704d9813-4cdc-484f-a8aa-699ea402df9e",
   "metadata": {},
   "outputs": [],
   "source": [
    "DF.insert(8, 'authentic', pd.DataFrame(authentic))"
   ]
  },
  {
   "cell_type": "markdown",
   "id": "71636138",
   "metadata": {},
   "source": [
    "Create a histogram for authentic."
   ]
  },
  {
   "cell_type": "code",
   "execution_count": 37,
   "id": "cc301c22-6a4d-4735-8cfc-784b076e63b1",
   "metadata": {},
   "outputs": [],
   "source": [
    "fig = px.histogram(DF, x='authentic')\n",
    "#fig.show()"
   ]
  },
  {
   "cell_type": "markdown",
   "id": "afe4b684",
   "metadata": {},
   "source": [
    "Create a histogram for arecommendation."
   ]
  },
  {
   "cell_type": "code",
   "execution_count": 38,
   "id": "52eeb791-d65c-4395-97d7-2d87d79da41e",
   "metadata": {},
   "outputs": [],
   "source": [
    "fig = px.histogram(DF, x='recommendation')\n",
    "#fig.show()"
   ]
  },
  {
   "cell_type": "markdown",
   "id": "2e327543",
   "metadata": {},
   "source": [
    "Create a histogram for authentic and recommendation."
   ]
  },
  {
   "cell_type": "code",
   "execution_count": 39,
   "id": "08c2d663-f369-49b0-b320-147b0df93663",
   "metadata": {},
   "outputs": [],
   "source": [
    "fig = px.histogram(DF, x='recommendation',color=\"authentic\", title = 'Distribution of Labels',\n",
    "                   color_discrete_sequence=[\"lightgreen\", \"lightskyblue\", \"lightsalmon\"])\n",
    "#fig.show()\n",
    "fig.write_html(\"proposal_distribution of labels.html\")"
   ]
  },
  {
   "cell_type": "markdown",
   "id": "19c8b8e7",
   "metadata": {},
   "source": [
    "Create a function to clean text."
   ]
  },
  {
   "cell_type": "code",
   "execution_count": 40,
   "id": "ddefeed0-c180-4148-b9e5-22d5c16616d8",
   "metadata": {},
   "outputs": [],
   "source": [
    "def preprocess(str_arg):\n",
    "        cleaned_str=re.sub('[^a-z\\s]+',' ',str(str_arg), flags=re.IGNORECASE) #every char except alphabets is replaced\n",
    "        cleaned_str=re.sub('(\\s+)',' ',cleaned_str) #multiple spaces are replaced by single space\n",
    "        cleaned_str=cleaned_str.lower() #converting the cleaned string to lower case\n",
    "        \n",
    "        return cleaned_str # returning the preprocessed string"
   ]
  },
  {
   "cell_type": "markdown",
   "id": "6dea2581",
   "metadata": {},
   "source": [
    "Clean text."
   ]
  },
  {
   "cell_type": "code",
   "execution_count": 41,
   "id": "c4915a04-2cdf-465f-bf80-46258dfce5e0",
   "metadata": {},
   "outputs": [],
   "source": [
    "DF_len = [None]*len(DF)\n",
    "for i in range(0, len(DF)):\n",
    "    DF_len[i] = len(preprocess(DF.iloc[i,6]).split(' '))\n",
    "DF_len = pd.DataFrame({'length': DF_len})"
   ]
  },
  {
   "cell_type": "markdown",
   "id": "e6321988",
   "metadata": {},
   "source": [
    "Create a histogram for review length."
   ]
  },
  {
   "cell_type": "code",
   "execution_count": 42,
   "id": "1bad0cbe-22a3-4fe9-bb3a-b779f6929266",
   "metadata": {},
   "outputs": [
    {
     "data": {
      "text/plain": [
       "(array([19872., 33919., 25316., 20521., 19089., 16676., 14318., 12864.,\n",
       "        11895., 11094.,  9994.,  9290.,  8611.,  8057.,  7288.,  6907.,\n",
       "         6577.,  5999.,  5775.,  5446.,  5098.,  4909.,  4634.,  4287.,\n",
       "         4175.,  3781.,  3784.,  3497.,  3361.,  3171.,  3134.,  3038.,\n",
       "         2853.,  2729.,  2651.,  2535.,  2463.,  2295.,  2195.,  2232.,\n",
       "         2088.,  2049.,  1980.,  1916.,  1893.,  1795.,  1887.,  1803.,\n",
       "         1657.,     0.,  1616.,  1561.,  1547.,  1455.,  1447.,  1470.,\n",
       "         1382.,  1341.,  1230.,  1185.,  1187.,  1215.,  1181.,  1152.,\n",
       "         1060.,  1115.,  1036.,  1040.,   989.,   977.,   993.,   964.,\n",
       "          997.,   860.,   852.,   862.,   880.,   854.,   812.,   848.,\n",
       "          784.,   757.,   776.,   791.,   699.,   686.,   675.,   666.,\n",
       "          653.,   651.,   629.,   624.,   621.,   566.,   595.,   646.,\n",
       "          580.,   613.,   590.,   538.]),\n",
       " array([ 1.  ,  1.98,  2.96,  3.94,  4.92,  5.9 ,  6.88,  7.86,  8.84,\n",
       "         9.82, 10.8 , 11.78, 12.76, 13.74, 14.72, 15.7 , 16.68, 17.66,\n",
       "        18.64, 19.62, 20.6 , 21.58, 22.56, 23.54, 24.52, 25.5 , 26.48,\n",
       "        27.46, 28.44, 29.42, 30.4 , 31.38, 32.36, 33.34, 34.32, 35.3 ,\n",
       "        36.28, 37.26, 38.24, 39.22, 40.2 , 41.18, 42.16, 43.14, 44.12,\n",
       "        45.1 , 46.08, 47.06, 48.04, 49.02, 50.  , 50.98, 51.96, 52.94,\n",
       "        53.92, 54.9 , 55.88, 56.86, 57.84, 58.82, 59.8 , 60.78, 61.76,\n",
       "        62.74, 63.72, 64.7 , 65.68, 66.66, 67.64, 68.62, 69.6 , 70.58,\n",
       "        71.56, 72.54, 73.52, 74.5 , 75.48, 76.46, 77.44, 78.42, 79.4 ,\n",
       "        80.38, 81.36, 82.34, 83.32, 84.3 , 85.28, 86.26, 87.24, 88.22,\n",
       "        89.2 , 90.18, 91.16, 92.14, 93.12, 94.1 , 95.08, 96.06, 97.04,\n",
       "        98.02, 99.  ]),\n",
       " <BarContainer object of 100 artists>)"
      ]
     },
     "execution_count": 42,
     "metadata": {},
     "output_type": "execute_result"
    },
    {
     "data": {
      "image/png": "[encoded data removed]",
      "text/plain": [
       "<Figure size 432x288 with 1 Axes>"
      ]
     },
     "metadata": {
      "needs_background": "light"
     },
     "output_type": "display_data"
    }
   ],
   "source": [
    "plt.figure()\n",
    "plt.hist(DF_len[DF_len['length']<100], bins = 100)"
   ]
  },
  {
   "cell_type": "markdown",
   "id": "15012424",
   "metadata": {},
   "source": [
    "There are a lot of reviews are less than 5. We think the review less than 5 is not useful. Hence we only keep the reviews is longer than 5 words."
   ]
  },
  {
   "cell_type": "code",
   "execution_count": 43,
   "id": "aee01bc4-c18d-411f-ab8f-09b1bc5a178a",
   "metadata": {},
   "outputs": [],
   "source": [
    "DF_Clean = DF[DF_len['length']>=5]"
   ]
  },
  {
   "cell_type": "markdown",
   "id": "c2a8b8d3",
   "metadata": {},
   "source": [
    "Clean the text."
   ]
  },
  {
   "cell_type": "code",
   "execution_count": 44,
   "id": "d9942538-2d47-425f-a4cd-8da293614a10",
   "metadata": {},
   "outputs": [],
   "source": [
    "DF_Clean_list = [None] * len(DF_Clean)\n",
    "for i in range(0, len(DF_Clean)):\n",
    "    DF_Clean_list[i] = preprocess(DF_Clean.iloc[i,6])"
   ]
  },
  {
   "cell_type": "markdown",
   "id": "17e0430a",
   "metadata": {},
   "source": [
    "Change to reviews in dataframe to be cleaned reviews."
   ]
  },
  {
   "cell_type": "code",
   "execution_count": 45,
   "id": "fa563f52-8164-4c9a-a81a-7d3bce8bda60",
   "metadata": {},
   "outputs": [
    {
     "data": {
      "text/html": [
       "<div>\n",
       "<style scoped>\n",
       "    .dataframe tbody tr th:only-of-type {\n",
       "        vertical-align: middle;\n",
       "    }\n",
       "\n",
       "    .dataframe tbody tr th {\n",
       "        vertical-align: top;\n",
       "    }\n",
       "\n",
       "    .dataframe thead th {\n",
       "        text-align: right;\n",
       "    }\n",
       "</style>\n",
       "<table border=\"1\" class=\"dataframe\">\n",
       "  <thead>\n",
       "    <tr style=\"text-align: right;\">\n",
       "      <th></th>\n",
       "      <th>review</th>\n",
       "    </tr>\n",
       "  </thead>\n",
       "  <tbody>\n",
       "    <tr>\n",
       "      <th>0</th>\n",
       "      <td>gt played as german reich gt declare war on b...</td>\n",
       "    </tr>\n",
       "    <tr>\n",
       "      <th>1</th>\n",
       "      <td>very good game although a bit overpriced in my...</td>\n",
       "    </tr>\n",
       "    <tr>\n",
       "      <th>2</th>\n",
       "      <td>out of all the reviews i wrote this one is pro...</td>\n",
       "    </tr>\n",
       "    <tr>\n",
       "      <th>3</th>\n",
       "      <td>disclaimer i survivor main i play games for fu...</td>\n",
       "    </tr>\n",
       "    <tr>\n",
       "      <th>4</th>\n",
       "      <td>english after playing for more than two years ...</td>\n",
       "    </tr>\n",
       "  </tbody>\n",
       "</table>\n",
       "</div>"
      ],
      "text/plain": [
       "                                              review\n",
       "0   gt played as german reich gt declare war on b...\n",
       "1  very good game although a bit overpriced in my...\n",
       "2  out of all the reviews i wrote this one is pro...\n",
       "3  disclaimer i survivor main i play games for fu...\n",
       "4  english after playing for more than two years ..."
      ]
     },
     "execution_count": 45,
     "metadata": {},
     "output_type": "execute_result"
    }
   ],
   "source": [
    "DF_Clean_DF = pd.DataFrame({'review': DF_Clean_list})\n",
    "DF_Clean_DF.head()"
   ]
  },
  {
   "cell_type": "markdown",
   "id": "fd03677c",
   "metadata": {},
   "source": [
    "Drop the useless coulmns."
   ]
  },
  {
   "cell_type": "code",
   "execution_count": 46,
   "id": "2200526b-a3f4-43de-9e2e-b1a2bb068800",
   "metadata": {},
   "outputs": [
    {
     "data": {
      "text/html": [
       "<div>\n",
       "<style scoped>\n",
       "    .dataframe tbody tr th:only-of-type {\n",
       "        vertical-align: middle;\n",
       "    }\n",
       "\n",
       "    .dataframe tbody tr th {\n",
       "        vertical-align: top;\n",
       "    }\n",
       "\n",
       "    .dataframe thead th {\n",
       "        text-align: right;\n",
       "    }\n",
       "</style>\n",
       "<table border=\"1\" class=\"dataframe\">\n",
       "  <thead>\n",
       "    <tr style=\"text-align: right;\">\n",
       "      <th></th>\n",
       "      <th>date_posted</th>\n",
       "      <th>funny</th>\n",
       "      <th>helpful</th>\n",
       "      <th>hour_played</th>\n",
       "      <th>is_early_access_review</th>\n",
       "      <th>recommendation</th>\n",
       "      <th>title</th>\n",
       "      <th>authentic</th>\n",
       "      <th>review</th>\n",
       "    </tr>\n",
       "  </thead>\n",
       "  <tbody>\n",
       "    <tr>\n",
       "      <th>0</th>\n",
       "      <td>2019-02-10</td>\n",
       "      <td>2</td>\n",
       "      <td>4</td>\n",
       "      <td>578</td>\n",
       "      <td>False</td>\n",
       "      <td>Recommended</td>\n",
       "      <td>Expansion - Hearts of Iron IV: Man the Guns</td>\n",
       "      <td>TRUE</td>\n",
       "      <td>gt played as german reich gt declare war on b...</td>\n",
       "    </tr>\n",
       "    <tr>\n",
       "      <th>1</th>\n",
       "      <td>2019-02-07</td>\n",
       "      <td>0</td>\n",
       "      <td>0</td>\n",
       "      <td>892</td>\n",
       "      <td>False</td>\n",
       "      <td>Recommended</td>\n",
       "      <td>Expansion - Hearts of Iron IV: Man the Guns</td>\n",
       "      <td>TRUE</td>\n",
       "      <td>very good game although a bit overpriced in my...</td>\n",
       "    </tr>\n",
       "    <tr>\n",
       "      <th>2</th>\n",
       "      <td>2018-06-14</td>\n",
       "      <td>126</td>\n",
       "      <td>1086</td>\n",
       "      <td>676</td>\n",
       "      <td>False</td>\n",
       "      <td>Recommended</td>\n",
       "      <td>Dead by Daylight</td>\n",
       "      <td>TRUE</td>\n",
       "      <td>out of all the reviews i wrote this one is pro...</td>\n",
       "    </tr>\n",
       "    <tr>\n",
       "      <th>3</th>\n",
       "      <td>2017-06-20</td>\n",
       "      <td>85</td>\n",
       "      <td>2139</td>\n",
       "      <td>612</td>\n",
       "      <td>False</td>\n",
       "      <td>Recommended</td>\n",
       "      <td>Dead by Daylight</td>\n",
       "      <td>TRUE</td>\n",
       "      <td>disclaimer i survivor main i play games for fu...</td>\n",
       "    </tr>\n",
       "    <tr>\n",
       "      <th>4</th>\n",
       "      <td>2016-12-12</td>\n",
       "      <td>4</td>\n",
       "      <td>55</td>\n",
       "      <td>2694</td>\n",
       "      <td>False</td>\n",
       "      <td>Recommended</td>\n",
       "      <td>Dead by Daylight</td>\n",
       "      <td>TRUE</td>\n",
       "      <td>english after playing for more than two years ...</td>\n",
       "    </tr>\n",
       "  </tbody>\n",
       "</table>\n",
       "</div>"
      ],
      "text/plain": [
       "  date_posted  funny  helpful  hour_played  is_early_access_review  \\\n",
       "0  2019-02-10      2        4          578                   False   \n",
       "1  2019-02-07      0        0          892                   False   \n",
       "2  2018-06-14    126     1086          676                   False   \n",
       "3  2017-06-20     85     2139          612                   False   \n",
       "4  2016-12-12      4       55         2694                   False   \n",
       "\n",
       "  recommendation                                        title authentic  \\\n",
       "0    Recommended  Expansion - Hearts of Iron IV: Man the Guns      TRUE   \n",
       "1    Recommended  Expansion - Hearts of Iron IV: Man the Guns      TRUE   \n",
       "2    Recommended                             Dead by Daylight      TRUE   \n",
       "3    Recommended                             Dead by Daylight      TRUE   \n",
       "4    Recommended                             Dead by Daylight      TRUE   \n",
       "\n",
       "                                              review  \n",
       "0   gt played as german reich gt declare war on b...  \n",
       "1  very good game although a bit overpriced in my...  \n",
       "2  out of all the reviews i wrote this one is pro...  \n",
       "3  disclaimer i survivor main i play games for fu...  \n",
       "4  english after playing for more than two years ...  "
      ]
     },
     "execution_count": 46,
     "metadata": {},
     "output_type": "execute_result"
    }
   ],
   "source": [
    "DF_Clean = DF_Clean.drop('review',axis=1)\n",
    "DF_Clean = DF_Clean.reset_index(drop=True)\n",
    "DF_Clean.insert(8,'review',DF_Clean_DF)\n",
    "DF_Clean.head()"
   ]
  },
  {
   "cell_type": "markdown",
   "id": "185b1052",
   "metadata": {},
   "source": [
    "Create a histogram for authentic."
   ]
  },
  {
   "cell_type": "code",
   "execution_count": 47,
   "id": "41dbb723-d519-44f4-a88a-0b3d3e1f4b3a",
   "metadata": {},
   "outputs": [],
   "source": [
    "fig = px.histogram(DF_Clean, x='authentic')\n",
    "#fig.show()"
   ]
  },
  {
   "cell_type": "markdown",
   "id": "3cd2a7b9",
   "metadata": {},
   "source": [
    "Create a histogram for recommendation."
   ]
  },
  {
   "cell_type": "code",
   "execution_count": 48,
   "id": "a9f74302-3e66-4a4e-9542-2c8da170550f",
   "metadata": {},
   "outputs": [],
   "source": [
    "fig = px.histogram(DF_Clean, x='recommendation')\n",
    "#fig.show()"
   ]
  },
  {
   "cell_type": "markdown",
   "id": "1b149451",
   "metadata": {},
   "source": [
    "Create a histogram for authentic and recommendation."
   ]
  },
  {
   "cell_type": "code",
   "execution_count": 49,
   "id": "a116dccf-62eb-4364-9fb9-ccdbdc2e72d2",
   "metadata": {},
   "outputs": [],
   "source": [
    "fig = px.histogram(DF_Clean, x='recommendation',color=\"authentic\", title = 'Distribution of Labels',\n",
    "                   color_discrete_sequence=[\"lightgreen\", \"lightskyblue\", \"lightsalmon\"])\n",
    "#fig.show()\n",
    "fig.write_html(\"proposal_distribution of labels.html\")"
   ]
  },
  {
   "cell_type": "markdown",
   "id": "1800fe43",
   "metadata": {},
   "source": [
    "Set a clean data."
   ]
  },
  {
   "cell_type": "code",
   "execution_count": 50,
   "id": "7e5b2863-d027-49fd-b1b2-6a7f35009bb9",
   "metadata": {},
   "outputs": [
    {
     "data": {
      "text/html": [
       "<div>\n",
       "<style scoped>\n",
       "    .dataframe tbody tr th:only-of-type {\n",
       "        vertical-align: middle;\n",
       "    }\n",
       "\n",
       "    .dataframe tbody tr th {\n",
       "        vertical-align: top;\n",
       "    }\n",
       "\n",
       "    .dataframe thead th {\n",
       "        text-align: right;\n",
       "    }\n",
       "</style>\n",
       "<table border=\"1\" class=\"dataframe\">\n",
       "  <thead>\n",
       "    <tr style=\"text-align: right;\">\n",
       "      <th></th>\n",
       "      <th>review</th>\n",
       "      <th>recommendation</th>\n",
       "      <th>authentic</th>\n",
       "    </tr>\n",
       "  </thead>\n",
       "  <tbody>\n",
       "    <tr>\n",
       "      <th>57905</th>\n",
       "      <td>very addicting i love it very simple but can r...</td>\n",
       "      <td>Recommended</td>\n",
       "      <td>TRUE</td>\n",
       "    </tr>\n",
       "    <tr>\n",
       "      <th>73236</th>\n",
       "      <td>frustrating at times but hella fun who doesn t...</td>\n",
       "      <td>Recommended</td>\n",
       "      <td>TRUE</td>\n",
       "    </tr>\n",
       "    <tr>\n",
       "      <th>249828</th>\n",
       "      <td>game is good devs continue to update it at a g...</td>\n",
       "      <td>Recommended</td>\n",
       "      <td>TRUE</td>\n",
       "    </tr>\n",
       "    <tr>\n",
       "      <th>136440</th>\n",
       "      <td>this game gud yis yis</td>\n",
       "      <td>Recommended</td>\n",
       "      <td>FALSE</td>\n",
       "    </tr>\n",
       "    <tr>\n",
       "      <th>273966</th>\n",
       "      <td>stuck on joining match screen possible solutio...</td>\n",
       "      <td>Recommended</td>\n",
       "      <td>FALSE</td>\n",
       "    </tr>\n",
       "  </tbody>\n",
       "</table>\n",
       "</div>"
      ],
      "text/plain": [
       "                                                   review recommendation  \\\n",
       "57905   very addicting i love it very simple but can r...    Recommended   \n",
       "73236   frustrating at times but hella fun who doesn t...    Recommended   \n",
       "249828  game is good devs continue to update it at a g...    Recommended   \n",
       "136440                              this game gud yis yis    Recommended   \n",
       "273966  stuck on joining match screen possible solutio...    Recommended   \n",
       "\n",
       "       authentic  \n",
       "57905       TRUE  \n",
       "73236       TRUE  \n",
       "249828      TRUE  \n",
       "136440     FALSE  \n",
       "273966     FALSE  "
      ]
     },
     "execution_count": 50,
     "metadata": {},
     "output_type": "execute_result"
    }
   ],
   "source": [
    "MYDF_Clean = pd.DataFrame({'review':DF_Clean['review'], 'recommendation':DF_Clean['recommendation'], 'authentic':DF_Clean['authentic']})\n",
    "MYDF_Clean.sample(5)"
   ]
  },
  {
   "cell_type": "markdown",
   "id": "1aa34fd6",
   "metadata": {},
   "source": [
    "Save clean data to local csv file."
   ]
  },
  {
   "cell_type": "code",
   "execution_count": 51,
   "id": "31a3ab49-f0a4-4a91-adc8-81c8a8ccc73c",
   "metadata": {},
   "outputs": [],
   "source": [
    "MYDF_Clean.to_csv('Steam_Clean_Data.csv',index=False,sep=',')"
   ]
  },
  {
   "cell_type": "markdown",
   "id": "6d8cacbf",
   "metadata": {},
   "source": [
    "## Train and Test Splitting."
   ]
  },
  {
   "cell_type": "markdown",
   "id": "d6f2cdd9",
   "metadata": {},
   "source": [
    "Split data based on label recommendation."
   ]
  },
  {
   "cell_type": "code",
   "execution_count": 52,
   "id": "7a2f61a7-8356-4586-8e55-79433829da35",
   "metadata": {},
   "outputs": [],
   "source": [
    "Train_reco,Test_reco = train_test_split(MYDF_Clean, test_size = 0.25, stratify=MYDF_Clean['recommendation'], random_state = 580) "
   ]
  },
  {
   "cell_type": "markdown",
   "id": "d7822fbd",
   "metadata": {},
   "source": [
    "Split data based on label authentic."
   ]
  },
  {
   "cell_type": "code",
   "execution_count": 53,
   "id": "fa08f258-43f7-467f-9d2b-6618f2f7d6d0",
   "metadata": {},
   "outputs": [],
   "source": [
    "Train_auth,Test_auth = train_test_split(MYDF_Clean, test_size = 0.25, stratify=MYDF_Clean['authentic'], random_state = 580) "
   ]
  },
  {
   "cell_type": "code",
   "execution_count": 54,
   "id": "82105e94-5a22-4355-b56f-a62e25f19843",
   "metadata": {},
   "outputs": [],
   "source": [
    "Train_reco.to_csv('data/Train_reco.csv',index=False,sep=',')\n",
    "Test_reco.to_csv('data/Test_reco.csv',index=False,sep=',')\n",
    "Train_auth.to_csv('data/Train_auth.csv',index=False,sep=',')\n",
    "Test_auth.to_csv('data/Test_auth.csv',index=False,sep=',')"
   ]
  }
 ],
 "metadata": {
  "kernelspec": {
   "display_name": "Python 3",
   "language": "python",
   "name": "python3"
  },
  "language_info": {
   "codemirror_mode": {
    "name": "ipython",
    "version": 3
   },
   "file_extension": ".py",
   "mimetype": "text/x-python",
   "name": "python",
   "nbconvert_exporter": "python",
   "pygments_lexer": "ipython3",
   "version": "3.8.5"
  }
 },
 "nbformat": 4,
 "nbformat_minor": 5
}
