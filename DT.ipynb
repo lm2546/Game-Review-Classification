{
 "cells": [
  {
   "cell_type": "code",
   "execution_count": 1,
   "id": "49fe448a-1354-47db-a818-8088879fccc0",
   "metadata": {},
   "outputs": [],
   "source": [
    "import re\n",
    "import numpy as np\n",
    "import pandas as pd\n",
    "from wordcloud import WordCloud, STOPWORDS\n",
    "import matplotlib.pyplot as plt\n",
    "from sklearn.feature_extraction.text import CountVectorizer, TfidfVectorizer\n",
    "from sklearn.metrics import confusion_matrix, plot_confusion_matrix\n",
    "from sklearn.tree import DecisionTreeClassifier, plot_tree\n",
    "from sklearn.metrics import accuracy_score\n",
    "from sklearn import tree \n",
    "from sklearn import preprocessing\n",
    "import plotly.express as px"
   ]
  },
  {
   "cell_type": "code",
   "execution_count": 2,
   "id": "a82fb0b2-9abb-490e-b804-2f1c3106f01d",
   "metadata": {},
   "outputs": [],
   "source": [
    "Clean_DF = pd.read_csv('Steam_Clean_Data.csv')\n",
    "Train_reco = pd.read_csv('Train_reco.csv')\n",
    "Test_reco = pd.read_csv('Test_reco.csv')\n",
    "Train_auth = pd.read_csv('Train_auth.csv')\n",
    "Test_auth = pd.read_csv('Test_auth.csv')"
   ]
  },
  {
   "cell_type": "code",
   "execution_count": 3,
   "id": "b08577c3-cebf-4148-8595-1f2377ecb3e2",
   "metadata": {},
   "outputs": [],
   "source": [
    "Tfidf_reco=TfidfVectorizer(\n",
    "    input=\"content\",\n",
    "    lowercase=True, \n",
    "    stop_words = \"english\",max_features = 1000)\n",
    "Train_DTM_reco = Tfidf_reco.fit_transform(Train_reco['review'])"
   ]
  },
  {
   "cell_type": "code",
   "execution_count": 4,
   "id": "af1878f4-260a-4dd2-a7ff-b21d8ad7c345",
   "metadata": {},
   "outputs": [],
   "source": [
    "Train_DTM_DF_reco=pd.DataFrame(Train_DTM_reco.toarray(),columns=Tfidf_reco.get_feature_names())"
   ]
  },
  {
   "cell_type": "code",
   "execution_count": 5,
   "id": "1baa4e1d-016d-4f09-b952-eb755e7b7c0e",
   "metadata": {},
   "outputs": [],
   "source": [
    "## Instantiate\n",
    "MyDT_reco=DecisionTreeClassifier(criterion='entropy', ##\"entropy\" or \"gini\"\n",
    "                            splitter='best',  ## or \"random\" or \"best\"\n",
    "                            max_depth=20, \n",
    "                            min_samples_split=2, \n",
    "                            min_samples_leaf=1, \n",
    "                            min_weight_fraction_leaf=0.0, \n",
    "                            max_features=None, \n",
    "                            random_state=None, \n",
    "                            max_leaf_nodes=None, \n",
    "                            min_impurity_decrease=0.0, \n",
    "                            min_impurity_split=None, \n",
    "                            class_weight=None)\n",
    "\n",
    "MyDT_reco.fit(Train_DTM_DF_reco, Train_reco['recommendation'])\n",
    "\n",
    "feature_names = Train_DTM_DF_reco.columns\n",
    "class_names = Train_reco['recommendation'].unique()"
   ]
  },
  {
   "cell_type": "code",
   "execution_count": 6,
   "id": "2602e9a5-1584-4cc2-8382-f043ad418f50",
   "metadata": {},
   "outputs": [
    {
     "data": {
      "text/plain": [
       "'fig = plt.figure(figsize=(30, 30))\\nMyTree1 = tree.plot_tree(MyDT1, impurity=True, rounded=True,\\n                         feature_names = feature_names, \\n                         class_names = class_names, \\n                         filled=True, fontsize=13)'"
      ]
     },
     "execution_count": 6,
     "metadata": {},
     "output_type": "execute_result"
    }
   ],
   "source": [
    "'''fig = plt.figure(figsize=(30, 30))\n",
    "MyTree1 = tree.plot_tree(MyDT1, impurity=True, rounded=True,\n",
    "                         feature_names = feature_names, \n",
    "                         class_names = class_names, \n",
    "                         filled=True, fontsize=13)'''"
   ]
  },
  {
   "cell_type": "code",
   "execution_count": 8,
   "id": "b2d3a721-c17c-41be-8d48-a454fb368653",
   "metadata": {},
   "outputs": [],
   "source": [
    "Test_DTM_reco = Tfidf_reco.transform(Test_reco['review'])\n",
    "Test_DTM_DF_reco=pd.DataFrame(Test_DTM_reco.toarray(),columns=Tfidf_reco.get_feature_names())\n",
    "DT_pred_reco=MyDT_reco.predict(Test_DTM_DF_reco)"
   ]
  },
  {
   "cell_type": "code",
   "execution_count": 9,
   "id": "b2d0c824-2bb7-472c-9a08-e8e86d750147",
   "metadata": {},
   "outputs": [
    {
     "name": "stdout",
     "output_type": "stream",
     "text": [
      "\n",
      "The confusion matrix is:\n",
      "[[11787 15834]\n",
      " [ 3964 52231]]\n"
     ]
    },
    {
     "data": {
      "text/plain": [
       "0.7637921160637587"
      ]
     },
     "execution_count": 9,
     "metadata": {},
     "output_type": "execute_result"
    },
    {
     "data": {
      "image/png": "[encoded data removed]",
      "text/plain": [
       "<Figure size 432x288 with 2 Axes>"
      ]
     },
     "metadata": {
      "needs_background": "light"
     },
     "output_type": "display_data"
    }
   ],
   "source": [
    "bn_matrix = confusion_matrix(Test_reco['recommendation'], DT_pred_reco)\n",
    "print(\"\\nThe confusion matrix is:\")\n",
    "print(bn_matrix)\n",
    "plot_confusion_matrix(MyDT_reco, Test_DTM_DF_reco, Test_reco['recommendation'], cmap = 'summer_r')\n",
    "#plt.savefig('MyTree1_cm.png')\n",
    "accuracy_score(Test_reco['recommendation'], DT_pred_reco)"
   ]
  },
  {
   "cell_type": "code",
   "execution_count": null,
   "id": "4e08499e-2d4e-479b-b3d2-3ad726215c03",
   "metadata": {},
   "outputs": [],
   "source": []
  },
  {
   "cell_type": "code",
   "execution_count": null,
   "id": "571e7e98-81ab-4b25-b6a3-00eaa929a171",
   "metadata": {},
   "outputs": [],
   "source": []
  },
  {
   "cell_type": "code",
   "execution_count": 11,
   "id": "b5d9ae7a-c56f-4696-8599-e7e7f368bbfb",
   "metadata": {},
   "outputs": [],
   "source": [
    "Tfidf_auth=TfidfVectorizer(\n",
    "    input=\"content\",\n",
    "    lowercase=True, \n",
    "    stop_words = \"english\",max_features = 1000)\n",
    "Train_DTM_auth = Tfidf_auth.fit_transform(Train_auth['review'])\n",
    "Train_DTM_DF_auth=pd.DataFrame(Train_DTM_auth.toarray(),columns=Tfidf_auth.get_feature_names())"
   ]
  },
  {
   "cell_type": "code",
   "execution_count": 12,
   "id": "dad86d0c-8ce4-474c-b413-7bca2fa43e4a",
   "metadata": {},
   "outputs": [],
   "source": [
    "## Instantiate\n",
    "MyDT_auth=DecisionTreeClassifier(criterion='entropy', ##\"entropy\" or \"gini\"\n",
    "                            splitter='best',  ## or \"random\" or \"best\"\n",
    "                            max_depth=20, \n",
    "                            min_samples_split=2, \n",
    "                            min_samples_leaf=1, \n",
    "                            min_weight_fraction_leaf=0.0, \n",
    "                            max_features=None, \n",
    "                            random_state=None, \n",
    "                            max_leaf_nodes=None, \n",
    "                            min_impurity_decrease=0.0, \n",
    "                            min_impurity_split=None, \n",
    "                            class_weight=None)\n",
    "\n",
    "MyDT_auth.fit(Train_DTM_DF_auth, Train_auth['authentic'])\n",
    "\n",
    "feature_names = Train_DTM_DF_auth.columns\n",
    "class_names = Train_auth['authentic'].unique()"
   ]
  },
  {
   "cell_type": "code",
   "execution_count": 13,
   "id": "6a136d64-1e14-4b59-9cc3-7ccef5cee911",
   "metadata": {},
   "outputs": [],
   "source": [
    "Test_DTM_auth = Tfidf_auth.transform(Test_auth['review'])\n",
    "Test_DTM_DF_auth=pd.DataFrame(Test_DTM_auth.toarray(),columns=Tfidf_auth.get_feature_names())\n",
    "DT_pred_auth=MyDT_auth.predict(Test_DTM_DF_auth)"
   ]
  },
  {
   "cell_type": "code",
   "execution_count": 14,
   "id": "63958625-10e7-4aaf-a499-70d01c5994e7",
   "metadata": {},
   "outputs": [
    {
     "name": "stdout",
     "output_type": "stream",
     "text": [
      "\n",
      "The confusion matrix is:\n",
      "[[  996 17870   614]\n",
      " [  948 35623  1653]\n",
      " [  605 23642  1865]]\n"
     ]
    },
    {
     "data": {
      "text/plain": [
       "0.4591486112436766"
      ]
     },
     "execution_count": 14,
     "metadata": {},
     "output_type": "execute_result"
    },
    {
     "data": {
      "image/png": "[encoded data removed]",
      "text/plain": [
       "<Figure size 432x288 with 2 Axes>"
      ]
     },
     "metadata": {
      "needs_background": "light"
     },
     "output_type": "display_data"
    }
   ],
   "source": [
    "bn_matrix = confusion_matrix(Test_auth['authentic'], DT_pred_auth)\n",
    "print(\"\\nThe confusion matrix is:\")\n",
    "print(bn_matrix)\n",
    "plot_confusion_matrix(MyDT_auth, Test_DTM_DF_auth, Test_auth['authentic'], cmap = 'summer_r')\n",
    "#plt.savefig('MyTree1_cm.png')\n",
    "accuracy_score(Test_auth['authentic'], DT_pred_auth)"
   ]
  },
  {
   "cell_type": "code",
   "execution_count": null,
   "id": "1649657b-772e-4ea2-8881-4c268b77e1cc",
   "metadata": {},
   "outputs": [],
   "source": []
  }
 ],
 "metadata": {
  "kernelspec": {
   "display_name": "Python 3",
   "language": "python",
   "name": "python3"
  },
  "language_info": {
   "codemirror_mode": {
    "name": "ipython",
    "version": 3
   },
   "file_extension": ".py",
   "mimetype": "text/x-python",
   "name": "python",
   "nbconvert_exporter": "python",
   "pygments_lexer": "ipython3",
   "version": "3.8.2"
  }
 },
 "nbformat": 4,
 "nbformat_minor": 5
}
