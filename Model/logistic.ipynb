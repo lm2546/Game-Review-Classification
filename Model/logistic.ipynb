{
 "cells": [
  {
   "cell_type": "markdown",
   "id": "10ab0ffa",
   "metadata": {},
   "source": [
    "# Logistic Model"
   ]
  },
  {
   "cell_type": "markdown",
   "id": "edc21ef8",
   "metadata": {},
   "source": [
    "# Load Pacakage."
   ]
  },
  {
   "cell_type": "code",
   "execution_count": 50,
   "id": "49fe448a-1354-47db-a818-8088879fccc0",
   "metadata": {},
   "outputs": [],
   "source": [
    "import re\n",
    "import numpy as np\n",
    "import pandas as pd\n",
    "from wordcloud import WordCloud, STOPWORDS\n",
    "import matplotlib.pyplot as plt\n",
    "from sklearn.feature_extraction.text import CountVectorizer, TfidfVectorizer\n",
    "from sklearn.metrics import confusion_matrix, plot_confusion_matrix\n",
    "from sklearn.metrics import accuracy_score\n",
    "from sklearn.linear_model import LogisticRegression\n",
    "from sklearn import preprocessing\n",
    "import plotly.express as px\n",
    "import os\n",
    "from sklearn.linear_model import LogisticRegressionCV\n",
    "from sklearn.model_selection import cross_val_score\n",
    "import warnings\n",
    "warnings.filterwarnings('ignore')"
   ]
  },
  {
   "cell_type": "markdown",
   "id": "613a48d6",
   "metadata": {},
   "source": [
    "# Load data"
   ]
  },
  {
   "cell_type": "code",
   "execution_count": 51,
   "id": "0d5ee443",
   "metadata": {},
   "outputs": [],
   "source": [
    "file=os.path.dirname(os.getcwd())\n",
    "Clean_DF = pd.read_csv(file+'\\\\data\\\\Steam_Clean_Data.csv')\n",
    "Train_reco = pd.read_csv(file+'\\\\data\\\\Train_reco.csv')\n",
    "Test_reco = pd.read_csv(file+'\\\\data\\\\Test_reco.csv')\n",
    "Train_auth = pd.read_csv(file+'\\\\data\\\\Train_auth.csv')\n",
    "Test_auth = pd.read_csv(file+'\\\\data\\\\Test_auth.csv')"
   ]
  },
  {
   "cell_type": "markdown",
   "id": "0de6f692",
   "metadata": {},
   "source": [
    "## Transform Recomendation Data."
   ]
  },
  {
   "cell_type": "markdown",
   "id": "a82d170e",
   "metadata": {},
   "source": [
    "Use tfidvectorizer to transform text data"
   ]
  },
  {
   "cell_type": "code",
   "execution_count": 52,
   "id": "b08577c3-cebf-4148-8595-1f2377ecb3e2",
   "metadata": {},
   "outputs": [],
   "source": [
    "Tfidf_reco=TfidfVectorizer(\n",
    "    input=\"content\",\n",
    "    lowercase=True, \n",
    "    stop_words = \"english\",max_features = 1000)\n",
    "Train_DTM_reco = Tfidf_reco.fit_transform(Train_reco['review'])\n",
    "Test_DTM_reco = Tfidf_reco.transform(Test_reco['review'])\n",
    "DTM_reco=Tfidf_reco.fit_transform(Clean_DF['review'])"
   ]
  },
  {
   "cell_type": "markdown",
   "id": "ad999b07",
   "metadata": {},
   "source": [
    "Convert tfidvectorizer result to pandas data frame."
   ]
  },
  {
   "cell_type": "code",
   "execution_count": 53,
   "id": "af1878f4-260a-4dd2-a7ff-b21d8ad7c345",
   "metadata": {},
   "outputs": [],
   "source": [
    "Train_DTM_DF_reco=pd.DataFrame(Train_DTM_reco.toarray(),columns=Tfidf_reco.get_feature_names())\n",
    "Test_DTM_DF_reco=pd.DataFrame(Test_DTM_reco.toarray(),columns=Tfidf_reco.get_feature_names())\n",
    "DTM_reco=reco=pd.DataFrame(DTM_reco.toarray(),columns=Tfidf_reco.get_feature_names())\n"
   ]
  },
  {
   "cell_type": "markdown",
   "id": "bd7abf96",
   "metadata": {},
   "source": [
    "## Recommendation Model"
   ]
  },
  {
   "cell_type": "markdown",
   "id": "10c1b1d9",
   "metadata": {},
   "source": [
    "Set an instantiate logistic model"
   ]
  },
  {
   "cell_type": "code",
   "execution_count": 54,
   "id": "1baa4e1d-016d-4f09-b952-eb755e7b7c0e",
   "metadata": {},
   "outputs": [],
   "source": [
    "## Instantiate\n",
    "log_reco=LogisticRegression(random_state=5)\n"
   ]
  },
  {
   "cell_type": "markdown",
   "id": "1e6c3dc3",
   "metadata": {},
   "source": [
    "Use trran data to fit the model."
   ]
  },
  {
   "cell_type": "code",
   "execution_count": 55,
   "id": "acca093c",
   "metadata": {},
   "outputs": [
    {
     "data": {
      "text/plain": [
       "LogisticRegression(random_state=5)"
      ]
     },
     "execution_count": 55,
     "metadata": {},
     "output_type": "execute_result"
    }
   ],
   "source": [
    "log_reco.fit(Train_DTM_DF_reco, Train_reco['recommendation'])"
   ]
  },
  {
   "cell_type": "markdown",
   "id": "7a4feb63",
   "metadata": {},
   "source": [
    "Predict the test data"
   ]
  },
  {
   "cell_type": "code",
   "execution_count": 56,
   "id": "b2d3a721-c17c-41be-8d48-a454fb368653",
   "metadata": {},
   "outputs": [],
   "source": [
    "DT_pred_reco=log_reco.predict(Test_DTM_DF_reco)"
   ]
  },
  {
   "cell_type": "markdown",
   "id": "f44ca6a5",
   "metadata": {},
   "source": [
    "Create a confusion matrix"
   ]
  },
  {
   "cell_type": "code",
   "execution_count": 57,
   "id": "b2d0c824-2bb7-472c-9a08-e8e86d750147",
   "metadata": {},
   "outputs": [
    {
     "name": "stdout",
     "output_type": "stream",
     "text": [
      "\n",
      "The confusion matrix is:\n",
      "[[19211  8410]\n",
      " [ 5176 51019]]\n"
     ]
    },
    {
     "data": {
      "text/plain": [
       "0.8379068435620883"
      ]
     },
     "execution_count": 57,
     "metadata": {},
     "output_type": "execute_result"
    },
    {
     "data": {
      "image/png": "[encoded data removed]",
      "text/plain": [
       "<Figure size 432x288 with 2 Axes>"
      ]
     },
     "metadata": {
      "needs_background": "light"
     },
     "output_type": "display_data"
    }
   ],
   "source": [
    "bn_matrix = confusion_matrix(Test_reco['recommendation'], DT_pred_reco)\n",
    "print(\"\\nThe confusion matrix is:\")\n",
    "print(bn_matrix)\n",
    "plot_confusion_matrix(log_reco, Test_DTM_DF_reco, Test_reco['recommendation'], cmap = 'summer_r')\n",
    "accuracy_score(Test_reco['recommendation'], DT_pred_reco)"
   ]
  },
  {
   "cell_type": "markdown",
   "id": "4ebf32d1",
   "metadata": {},
   "source": [
    "Use cross valiadation to generate logistic model."
   ]
  },
  {
   "cell_type": "code",
   "execution_count": 58,
   "id": "3a0474ce",
   "metadata": {},
   "outputs": [],
   "source": [
    "from sklearn.model_selection import cross_validate\n",
    "cv_reco=cross_validate(LogisticRegression(random_state=5), DTM_reco, Clean_DF['recommendation'], cv=5, scoring = 'accuracy', return_estimator =True)\n"
   ]
  },
  {
   "cell_type": "code",
   "execution_count": 59,
   "id": "414f2656",
   "metadata": {},
   "outputs": [
    {
     "data": {
      "text/plain": [
       "0.8257665820633735"
      ]
     },
     "execution_count": 59,
     "metadata": {},
     "output_type": "execute_result"
    }
   ],
   "source": [
    "cv_reco['test_score'].mean()"
   ]
  },
  {
   "cell_type": "markdown",
   "id": "e53d7a46",
   "metadata": {},
   "source": [
    "## Feature Importance"
   ]
  },
  {
   "cell_type": "code",
   "execution_count": 132,
   "id": "f5259680",
   "metadata": {},
   "outputs": [
    {
     "name": "stdout",
     "output_type": "stream",
     "text": [
      "Features sorted by their score for estimator 0:\n",
      "Features sorted by their score for estimator 1:\n",
      "Features sorted by their score for estimator 2:\n",
      "Features sorted by their score for estimator 3:\n",
      "Features sorted by their score for estimator 4:\n"
     ]
    },
    {
     "data": {
      "image/png": "[encoded data removed]",
      "text/plain": [
       "<Figure size 2160x1440 with 5 Axes>"
      ]
     },
     "metadata": {
      "needs_background": "light"
     },
     "output_type": "display_data"
    }
   ],
   "source": [
    "fig=plt.figure(figsize=(30,20))\n",
    "for idx,estimator in enumerate(cv_reco['estimator']):\n",
    "    print(\"Features sorted by their score for estimator {}:\".format(idx))\n",
    "    feature_importances = pd.DataFrame(estimator.coef_.T,\n",
    "                                       index = DTM_reco.columns,\n",
    "                                        columns=['importance']).sort_values('importance', ascending=False)\n",
    "    feature_importances=feature_importances['importance']*np.var(feature_importances['importance'])\n",
    "    feature_importances=feature_importances.sort_values(key=abs,ascending=False)\n",
    "    feature_importances=feature_importances.head(10)\n",
    "    plt.subplot(231+idx)\n",
    "    feature_importances.plot.barh()\n",
    "    plt.axis(\"on\")\n",
    "    plt.axvline(0, linestyle='-')\n",
    "    "
   ]
  },
  {
   "cell_type": "code",
   "execution_count": null,
   "id": "6ca095d4",
   "metadata": {},
   "outputs": [],
   "source": []
  },
  {
   "cell_type": "code",
   "execution_count": null,
   "id": "c88e9f2e",
   "metadata": {},
   "outputs": [],
   "source": []
  }
 ],
 "metadata": {
  "kernelspec": {
   "display_name": "Python 3",
   "language": "python",
   "name": "python3"
  },
  "language_info": {
   "codemirror_mode": {
    "name": "ipython",
    "version": 3
   },
   "file_extension": ".py",
   "mimetype": "text/x-python",
   "name": "python",
   "nbconvert_exporter": "python",
   "pygments_lexer": "ipython3",
   "version": "3.8.5"
  }
 },
 "nbformat": 4,
 "nbformat_minor": 5
}
