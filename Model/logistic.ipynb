{
 "cells": [
  {
   "cell_type": "markdown",
   "id": "10ab0ffa",
   "metadata": {},
   "source": [
    "# Logistic Model"
   ]
  },
  {
   "cell_type": "markdown",
   "id": "edc21ef8",
   "metadata": {},
   "source": [
    "# Load Pacakage."
   ]
  },
  {
   "cell_type": "code",
   "execution_count": 1,
   "id": "49fe448a-1354-47db-a818-8088879fccc0",
   "metadata": {},
   "outputs": [],
   "source": [
    "import re\n",
    "import numpy as np\n",
    "import pandas as pd\n",
    "from wordcloud import WordCloud, STOPWORDS\n",
    "import matplotlib.pyplot as plt\n",
    "from sklearn.feature_extraction.text import CountVectorizer, TfidfVectorizer\n",
    "from sklearn.metrics import confusion_matrix, plot_confusion_matrix\n",
    "from sklearn.metrics import accuracy_score\n",
    "from sklearn.linear_model import LogisticRegression\n",
    "from sklearn import preprocessing\n",
    "import plotly.express as px\n",
    "import os\n",
    "import warnings\n",
    "warnings.filterwarnings(\"ignore\", category=FutureWarning)"
   ]
  },
  {
   "cell_type": "markdown",
   "id": "613a48d6",
   "metadata": {},
   "source": [
    "# Load data"
   ]
  },
  {
   "cell_type": "code",
   "execution_count": 2,
   "id": "0d5ee443",
   "metadata": {},
   "outputs": [],
   "source": [
    "file=os.path.dirname(os.getcwd())\n",
    "Clean_DF = pd.read_csv(file+'\\\\data\\\\Steam_Clean_Data.csv')\n",
    "Train_reco = pd.read_csv(file+'\\\\data\\\\Train_reco.csv')\n",
    "Test_reco = pd.read_csv(file+'\\\\data\\\\Test_reco.csv')\n",
    "Train_auth = pd.read_csv(file+'\\\\data\\\\Train_auth.csv')\n",
    "Test_auth = pd.read_csv(file+'\\\\data\\\\Test_auth.csv')"
   ]
  },
  {
   "cell_type": "markdown",
   "id": "0de6f692",
   "metadata": {},
   "source": [
    "## Transform Recomendation Data."
   ]
  },
  {
   "cell_type": "markdown",
   "id": "a82d170e",
   "metadata": {},
   "source": [
    "Use tfidvectorizer to transform text data"
   ]
  },
  {
   "cell_type": "code",
   "execution_count": 3,
   "id": "b08577c3-cebf-4148-8595-1f2377ecb3e2",
   "metadata": {},
   "outputs": [],
   "source": [
    "Tfidf_reco=TfidfVectorizer(\n",
    "    input=\"content\",\n",
    "    lowercase=True, \n",
    "    stop_words = \"english\",max_features = 1000)\n",
    "Train_DTM_reco = Tfidf_reco.fit_transform(Train_reco['review'])\n",
    "Test_DTM_reco = Tfidf_reco.transform(Test_reco['review'])"
   ]
  },
  {
   "cell_type": "markdown",
   "id": "ad999b07",
   "metadata": {},
   "source": [
    "Convert tfidvectorizer result to pandas data frame."
   ]
  },
  {
   "cell_type": "code",
   "execution_count": 4,
   "id": "af1878f4-260a-4dd2-a7ff-b21d8ad7c345",
   "metadata": {},
   "outputs": [],
   "source": [
    "Train_DTM_DF_reco=pd.DataFrame(Train_DTM_reco.toarray(),columns=Tfidf_reco.get_feature_names())\n",
    "Test_DTM_DF_reco=pd.DataFrame(Test_DTM_reco.toarray(),columns=Tfidf_reco.get_feature_names())"
   ]
  },
  {
   "cell_type": "markdown",
   "id": "bd7abf96",
   "metadata": {},
   "source": [
    "## Recommendation Model"
   ]
  },
  {
   "cell_type": "markdown",
   "id": "10c1b1d9",
   "metadata": {},
   "source": [
    "Set an instantiate logistic model"
   ]
  },
  {
   "cell_type": "code",
   "execution_count": 5,
   "id": "1baa4e1d-016d-4f09-b952-eb755e7b7c0e",
   "metadata": {},
   "outputs": [],
   "source": [
    "## Instantiate\n",
    "log_reco=LogisticRegression(random_state=5)\n"
   ]
  },
  {
   "cell_type": "markdown",
   "id": "1e6c3dc3",
   "metadata": {},
   "source": [
    "Use trran data to fit the model."
   ]
  },
  {
   "cell_type": "code",
   "execution_count": 6,
   "id": "acca093c",
   "metadata": {},
   "outputs": [
    {
     "data": {
      "text/plain": [
       "LogisticRegression(random_state=5)"
      ]
     },
     "execution_count": 6,
     "metadata": {},
     "output_type": "execute_result"
    }
   ],
   "source": [
    "log_reco.fit(Train_DTM_DF_reco, Train_reco['recommendation'])"
   ]
  },
  {
   "cell_type": "markdown",
   "id": "7a4feb63",
   "metadata": {},
   "source": [
    "Predict the test data"
   ]
  },
  {
   "cell_type": "code",
   "execution_count": 7,
   "id": "b2d3a721-c17c-41be-8d48-a454fb368653",
   "metadata": {},
   "outputs": [],
   "source": [
    "DT_pred_reco=log_reco.predict(Test_DTM_DF_reco)"
   ]
  },
  {
   "cell_type": "markdown",
   "id": "f44ca6a5",
   "metadata": {},
   "source": [
    "Create a confusion matrix"
   ]
  },
  {
   "cell_type": "code",
   "execution_count": 8,
   "id": "b2d0c824-2bb7-472c-9a08-e8e86d750147",
   "metadata": {},
   "outputs": [
    {
     "name": "stdout",
     "output_type": "stream",
     "text": [
      "\n",
      "The confusion matrix is:\n",
      "[[19211  8410]\n",
      " [ 5176 51019]]\n"
     ]
    },
    {
     "data": {
      "text/plain": [
       "0.8379068435620883"
      ]
     },
     "execution_count": 8,
     "metadata": {},
     "output_type": "execute_result"
    },
    {
     "data": {
      "image/png": "[encoded data removed]",
      "text/plain": [
       "<Figure size 432x288 with 2 Axes>"
      ]
     },
     "metadata": {
      "needs_background": "light"
     },
     "output_type": "display_data"
    }
   ],
   "source": [
    "bn_matrix = confusion_matrix(Test_reco['recommendation'], DT_pred_reco)\n",
    "print(\"\\nThe confusion matrix is:\")\n",
    "print(bn_matrix)\n",
    "plot_confusion_matrix(log_reco, Test_DTM_DF_reco, Test_reco['recommendation'], cmap = 'summer_r')\n",
    "accuracy_score(Test_reco['recommendation'], DT_pred_reco)"
   ]
  },
  {
   "cell_type": "markdown",
   "id": "a96dbab9",
   "metadata": {},
   "source": [
    "## Transform Authentic Data."
   ]
  },
  {
   "cell_type": "markdown",
   "id": "60a49907",
   "metadata": {},
   "source": [
    "Use tfidvectorizer to transform text data"
   ]
  },
  {
   "cell_type": "code",
   "execution_count": 9,
   "id": "b5d9ae7a-c56f-4696-8599-e7e7f368bbfb",
   "metadata": {},
   "outputs": [],
   "source": [
    "Tfidf_auth=TfidfVectorizer(\n",
    "    input=\"content\",\n",
    "    lowercase=True, \n",
    "    stop_words = \"english\",max_features = 1000)\n",
    "Train_DTM_auth = Tfidf_auth.fit_transform(Train_auth['review'])\n"
   ]
  },
  {
   "cell_type": "markdown",
   "id": "aad642df",
   "metadata": {},
   "source": [
    "Convert tfidvectorizer result to pandas data frame."
   ]
  },
  {
   "cell_type": "code",
   "execution_count": null,
   "id": "3f68d544",
   "metadata": {},
   "outputs": [],
   "source": [
    "Train_DTM_DF_auth=pd.DataFrame(Train_DTM_auth.toarray(),columns=Tfidf_auth.get_feature_names())\n",
    "Test_DTM_auth = Tfidf_auth.transform(Test_auth['review'])\n",
    "Test_DTM_DF_auth=pd.DataFrame(Test_DTM_auth.toarray(),columns=Tfidf_auth.get_feature_names())"
   ]
  },
  {
   "cell_type": "markdown",
   "id": "6a9a7198",
   "metadata": {},
   "source": [
    "## Authentic Model"
   ]
  },
  {
   "cell_type": "markdown",
   "id": "4a499e08",
   "metadata": {},
   "source": [
    "Set an instantiate logistc model"
   ]
  },
  {
   "cell_type": "code",
   "execution_count": 10,
   "id": "dad86d0c-8ce4-474c-b413-7bca2fa43e4a",
   "metadata": {},
   "outputs": [
    {
     "name": "stderr",
     "output_type": "stream",
     "text": [
      "C:\\Users\\25465\\anaconda3\\lib\\site-packages\\sklearn\\linear_model\\_logistic.py:814: ConvergenceWarning: lbfgs failed to converge (status=1):\n",
      "STOP: TOTAL NO. of ITERATIONS REACHED LIMIT.\n",
      "\n",
      "Increase the number of iterations (max_iter) or scale the data as shown in:\n",
      "    https://scikit-learn.org/stable/modules/preprocessing.html\n",
      "Please also refer to the documentation for alternative solver options:\n",
      "    https://scikit-learn.org/stable/modules/linear_model.html#logistic-regression\n",
      "  n_iter_i = _check_optimize_result(\n"
     ]
    },
    {
     "data": {
      "text/plain": [
       "LogisticRegression(random_state=0)"
      ]
     },
     "execution_count": 10,
     "metadata": {},
     "output_type": "execute_result"
    }
   ],
   "source": [
    "## Instantiate\n",
    "log_auth=LogisticRegression(random_state=0)\n",
    "\n"
   ]
  },
  {
   "cell_type": "markdown",
   "id": "08bd9cd6",
   "metadata": {},
   "source": [
    "Use train data fit model."
   ]
  },
  {
   "cell_type": "code",
   "execution_count": null,
   "id": "d655795c",
   "metadata": {},
   "outputs": [],
   "source": [
    "log_auth.fit(Train_DTM_DF_auth, Train_auth['authentic'])"
   ]
  },
  {
   "cell_type": "markdown",
   "id": "7e792ab6",
   "metadata": {},
   "source": [
    "Predict label for test data."
   ]
  },
  {
   "cell_type": "code",
   "execution_count": 11,
   "id": "6a136d64-1e14-4b59-9cc3-7ccef5cee911",
   "metadata": {},
   "outputs": [],
   "source": [
    "\n",
    "DT_pred_auth=log_auth.predict(Test_DTM_DF_auth)"
   ]
  },
  {
   "cell_type": "markdown",
   "id": "6a62ff9e",
   "metadata": {},
   "source": [
    "Create a confusion matrix"
   ]
  },
  {
   "cell_type": "code",
   "execution_count": 12,
   "id": "63958625-10e7-4aaf-a499-70d01c5994e7",
   "metadata": {},
   "outputs": [
    {
     "name": "stdout",
     "output_type": "stream",
     "text": [
      "\n",
      "The confusion matrix is:\n",
      "[[48708  4511]\n",
      " [24882  5715]]\n"
     ]
    },
    {
     "data": {
      "text/plain": [
       "0.6493151665553116"
      ]
     },
     "execution_count": 12,
     "metadata": {},
     "output_type": "execute_result"
    },
    {
     "data": {
      "image/png": "[encoded data removed]",
      "text/plain": [
       "<Figure size 432x288 with 2 Axes>"
      ]
     },
     "metadata": {
      "needs_background": "light"
     },
     "output_type": "display_data"
    }
   ],
   "source": [
    "bn_matrix = confusion_matrix(Test_auth['authentic'], DT_pred_auth)\n",
    "print(\"\\nThe confusion matrix is:\")\n",
    "print(bn_matrix)\n",
    "plot_confusion_matrix(log_auth, Test_DTM_DF_auth, Test_auth['authentic'], cmap = 'summer_r')\n",
    "#plt.savefig('MyTree1_cm.png')\n",
    "accuracy_score(Test_auth['authentic'], DT_pred_auth)"
   ]
  },
  {
   "cell_type": "markdown",
   "id": "0f5b072a",
   "metadata": {},
   "source": [
    "Create a new logistic Model."
   ]
  },
  {
   "cell_type": "code",
   "execution_count": 13,
   "id": "1649657b-772e-4ea2-8881-4c268b77e1cc",
   "metadata": {},
   "outputs": [],
   "source": [
    "\n",
    "log_auth2=LogisticRegression(random_state=10,solver='liblinear')\n",
    "log_auth2.fit(Train_DTM_DF_auth, Train_auth['authentic'])\n",
    "DT_pred_auth=log_auth2.predict(Test_DTM_DF_auth)"
   ]
  },
  {
   "cell_type": "code",
   "execution_count": 14,
   "id": "c2f0dd22",
   "metadata": {},
   "outputs": [
    {
     "name": "stdout",
     "output_type": "stream",
     "text": [
      "\n",
      "The confusion matrix is:\n",
      "[[48719  4500]\n",
      " [24880  5717]]\n"
     ]
    },
    {
     "data": {
      "text/plain": [
       "0.6494702682065476"
      ]
     },
     "execution_count": 14,
     "metadata": {},
     "output_type": "execute_result"
    },
    {
     "data": {
      "image/png": "[encoded data removed]",
      "text/plain": [
       "<Figure size 432x288 with 2 Axes>"
      ]
     },
     "metadata": {
      "needs_background": "light"
     },
     "output_type": "display_data"
    }
   ],
   "source": [
    "bn_matrix = confusion_matrix(Test_auth['authentic'], DT_pred_auth)\n",
    "print(\"\\nThe confusion matrix is:\")\n",
    "print(bn_matrix)\n",
    "plot_confusion_matrix(log_auth, Test_DTM_DF_auth, Test_auth['authentic'], cmap = 'summer_r')\n",
    "#plt.savefig('MyTree1_cm.png')\n",
    "accuracy_score(Test_auth['authentic'], DT_pred_auth)"
   ]
  },
  {
   "cell_type": "markdown",
   "id": "4ebf32d1",
   "metadata": {},
   "source": [
    "Use cross valiadation to generate logistic model."
   ]
  },
  {
   "cell_type": "code",
   "execution_count": 15,
   "id": "3a0474ce",
   "metadata": {},
   "outputs": [
    {
     "name": "stderr",
     "output_type": "stream",
     "text": [
      "C:\\Users\\25465\\anaconda3\\lib\\site-packages\\sklearn\\linear_model\\_logistic.py:814: ConvergenceWarning: lbfgs failed to converge (status=1):\n",
      "STOP: TOTAL NO. of ITERATIONS REACHED LIMIT.\n",
      "\n",
      "Increase the number of iterations (max_iter) or scale the data as shown in:\n",
      "    https://scikit-learn.org/stable/modules/preprocessing.html\n",
      "Please also refer to the documentation for alternative solver options:\n",
      "    https://scikit-learn.org/stable/modules/linear_model.html#logistic-regression\n",
      "  n_iter_i = _check_optimize_result(\n",
      "C:\\Users\\25465\\anaconda3\\lib\\site-packages\\sklearn\\linear_model\\_logistic.py:814: ConvergenceWarning: lbfgs failed to converge (status=1):\n",
      "STOP: TOTAL NO. of ITERATIONS REACHED LIMIT.\n",
      "\n",
      "Increase the number of iterations (max_iter) or scale the data as shown in:\n",
      "    https://scikit-learn.org/stable/modules/preprocessing.html\n",
      "Please also refer to the documentation for alternative solver options:\n",
      "    https://scikit-learn.org/stable/modules/linear_model.html#logistic-regression\n",
      "  n_iter_i = _check_optimize_result(\n"
     ]
    }
   ],
   "source": [
    "from sklearn.linear_model import LogisticRegressionCV\n",
    "log_auth3 = LogisticRegressionCV(cv=10, random_state=0)\n",
    "log_auth3.fit(Train_DTM_DF_auth, Train_auth['authentic'])\n",
    "DT_pred_auth3=log_auth3.predict(Test_DTM_DF_auth)"
   ]
  },
  {
   "cell_type": "markdown",
   "id": "9ba149c7",
   "metadata": {},
   "source": [
    "Create a confusion matrix."
   ]
  },
  {
   "cell_type": "code",
   "execution_count": 16,
   "id": "f7172297",
   "metadata": {},
   "outputs": [
    {
     "name": "stdout",
     "output_type": "stream",
     "text": [
      "\n",
      "The confusion matrix is:\n",
      "[[48719  4500]\n",
      " [24880  5717]]\n"
     ]
    },
    {
     "data": {
      "text/plain": [
       "0.6495657153765391"
      ]
     },
     "execution_count": 16,
     "metadata": {},
     "output_type": "execute_result"
    },
    {
     "data": {
      "image/png": "[encoded data removed]",
      "text/plain": [
       "<Figure size 432x288 with 2 Axes>"
      ]
     },
     "metadata": {
      "needs_background": "light"
     },
     "output_type": "display_data"
    }
   ],
   "source": [
    "bn_matrix = confusion_matrix(Test_auth['authentic'], DT_pred_auth)\n",
    "print(\"\\nThe confusion matrix is:\")\n",
    "print(bn_matrix)\n",
    "plot_confusion_matrix(log_auth3, Test_DTM_DF_auth, Test_auth['authentic'], cmap = 'summer_r')\n",
    "#plt.savefig('MyTree1_cm.png')\n",
    "accuracy_score(Test_auth['authentic'], DT_pred_auth3)"
   ]
  }
 ],
 "metadata": {
  "kernelspec": {
   "display_name": "Python 3",
   "language": "python",
   "name": "python3"
  },
  "language_info": {
   "codemirror_mode": {
    "name": "ipython",
    "version": 3
   },
   "file_extension": ".py",
   "mimetype": "text/x-python",
   "name": "python",
   "nbconvert_exporter": "python",
   "pygments_lexer": "ipython3",
   "version": "3.8.5"
  }
 },
 "nbformat": 4,
 "nbformat_minor": 5
}
