{
 "cells": [
  {
   "cell_type": "markdown",
   "id": "49fe448a-1354-47db-a818-8088879fccc0",
   "metadata": {},
   "source": [
    "# <center> Decision Tree Model"
   ]
  },
  {
   "cell_type": "markdown",
   "id": "edc21ef8",
   "metadata": {},
   "source": [
    "## Load Pacakage."
   ]
  },
  {
   "cell_type": "code",
   "execution_count": 1,
   "id": "bc3c6115",
   "metadata": {},
   "outputs": [],
   "source": [
    "import re\n",
    "import numpy as np\n",
    "import pandas as pd\n",
    "import matplotlib.pyplot as plt\n",
    "from sklearn.feature_extraction.text import TfidfVectorizer\n",
    "from sklearn.metrics import confusion_matrix, plot_confusion_matrix\n",
    "from sklearn.tree import DecisionTreeClassifier, plot_tree\n",
    "from sklearn.metrics import accuracy_score\n",
    "from sklearn import tree\n",
    "import plotly.express as px\n",
    "import warnings\n",
    "warnings.filterwarnings('ignore')"
   ]
  },
  {
   "cell_type": "markdown",
   "id": "edc21ef8",
   "metadata": {},
   "source": [
    "## Load Pacakage."
   ]
  },
  {
   "cell_type": "code",
   "execution_count": 2,
   "id": "a82fb0b2-9abb-490e-b804-2f1c3106f01d",
   "metadata": {},
   "outputs": [],
   "source": [
    "## Read the Data\n",
    "file=os.path.dirname(os.getcwd())\n",
    "Clean_DF = pd.read_csv(file+'\\\\data\\\\Steam_Clean_Data.csv')\n",
    "Train_reco = pd.read_csv(file+'\\\\data\\\\Train_reco.csv')\n",
    "Test_reco = pd.read_csv(file+'\\\\data\\\\Test_reco.csv')"
   ]
  },
  {
   "cell_type": "markdown",
   "id": "0de6f692",
   "metadata": {},
   "source": [
    "## Transform Recomendation Data."
   ]
  },
  {
   "cell_type": "markdown",
   "id": "a82d170e",
   "metadata": {},
   "source": [
    "Use tfidvectorizer to transform text data"
   ]
  },
  {
   "cell_type": "code",
   "execution_count": 3,
   "id": "b08577c3-cebf-4148-8595-1f2377ecb3e2",
   "metadata": {},
   "outputs": [],
   "source": [
    "## Instantiate the TfidfVectorizer\n",
    "Tfidf_reco=TfidfVectorizer(\n",
    "    input=\"content\",\n",
    "    lowercase=True, \n",
    "    stop_words = \"english\",max_features = 1000)\n",
    "Train_DTM_reco = Tfidf_reco.fit_transform(Train_reco['review'])\n",
    "Test_DTM_reco = Tfidf_reco.transform(Test_reco['review'])"
   ]
  },
  {
   "cell_type": "markdown",
   "id": "ad999b07",
   "metadata": {},
   "source": [
    "Convert tfidvectorizer result to pandas data frame."
   ]
  },
  {
   "cell_type": "code",
   "execution_count": 4,
   "id": "af1878f4-260a-4dd2-a7ff-b21d8ad7c345",
   "metadata": {},
   "outputs": [
    {
     "name": "stderr",
     "output_type": "stream",
     "text": [
      "C:\\Users\\25465\\anaconda3\\lib\\site-packages\\sklearn\\utils\\deprecation.py:87: FutureWarning: Function get_feature_names is deprecated; get_feature_names is deprecated in 1.0 and will be removed in 1.2. Please use get_feature_names_out instead.\n",
      "  warnings.warn(msg, category=FutureWarning)\n"
     ]
    }
   ],
   "source": [
    "Train_DTM_DF_reco=pd.DataFrame(Train_DTM_reco.toarray(),columns=Tfidf_reco.get_feature_names())\n",
    "Test_DTM_DF_reco=pd.DataFrame(Test_DTM_reco.toarray(),columns=Tfidf_reco.get_feature_names())"
   ]
  },
  {
   "cell_type": "markdown",
   "id": "bd7abf96",
   "metadata": {},
   "source": [
    "## Recommendation Model"
   ]
  },
  {
   "cell_type": "markdown",
   "id": "10c1b1d9",
   "metadata": {},
   "source": [
    "Set an instantiate logistic model"
   ]
  },
  {
   "cell_type": "code",
   "execution_count": 6,
   "id": "1baa4e1d-016d-4f09-b952-eb755e7b7c0e",
   "metadata": {},
   "outputs": [],
   "source": [
    "## Instantiate the Decision Tree Model and Fit the Data\n",
    "MyDT_reco=DecisionTreeClassifier(criterion='entropy', ##\"entropy\" or \"gini\"\n",
    "                            splitter='best',  ## or \"random\" or \"best\"\n",
    "                            max_depth=20, \n",
    "                            min_samples_split=2, \n",
    "                            min_samples_leaf=1, \n",
    "                            min_weight_fraction_leaf=0.0, \n",
    "                            max_features=None, \n",
    "                            random_state=None, \n",
    "                            max_leaf_nodes=None, \n",
    "                            min_impurity_decrease=0.0, \n",
    "                            #min_impurity_split=None, \n",
    "                            class_weight=None)\n"
   ]
  },
  {
   "cell_type": "markdown",
   "id": "1e6c3dc3",
   "metadata": {},
   "source": [
    "Use trran data to fit the model."
   ]
  },
  {
   "cell_type": "code",
   "execution_count": 7,
   "id": "d9ebaaf0",
   "metadata": {},
   "outputs": [],
   "source": [
    "MyDT_reco.fit(Train_DTM_DF_reco, Train_reco['recommendation'])\n",
    "\n",
    "feature_names = Train_DTM_DF_reco.columns\n",
    "class_names = Train_reco['recommendation'].unique()"
   ]
  },
  {
   "cell_type": "code",
   "execution_count": 8,
   "id": "2602e9a5-1584-4cc2-8382-f043ad418f50",
   "metadata": {},
   "outputs": [
    {
     "data": {
      "text/plain": [
       "'\\nfig = plt.figure(figsize=(30, 30))\\nMyTree1 = tree.plot_tree(MyDT1, impurity=True, rounded=True,\\n                         feature_names = feature_names, \\n                         class_names = class_names, \\n                         filled=True, fontsize=13)\\n'"
      ]
     },
     "execution_count": 8,
     "metadata": {},
     "output_type": "execute_result"
    }
   ],
   "source": [
    "'''\n",
    "fig = plt.figure(figsize=(30, 30))\n",
    "MyTree1 = tree.plot_tree(MyDT1, impurity=True, rounded=True,\n",
    "                         feature_names = feature_names, \n",
    "                         class_names = class_names, \n",
    "                         filled=True, fontsize=13)\n",
    "'''"
   ]
  },
  {
   "cell_type": "markdown",
   "id": "7a4feb63",
   "metadata": {},
   "source": [
    "Predict the test data"
   ]
  },
  {
   "cell_type": "code",
   "execution_count": 9,
   "id": "b2d3a721-c17c-41be-8d48-a454fb368653",
   "metadata": {},
   "outputs": [],
   "source": [
    "## Predict\n",
    "DT_pred_reco=MyDT_reco.predict(Test_DTM_DF_reco)"
   ]
  },
  {
   "cell_type": "markdown",
   "id": "f44ca6a5",
   "metadata": {},
   "source": [
    "Create a confusion matrix"
   ]
  },
  {
   "cell_type": "code",
   "execution_count": 10,
   "id": "d6d0ecb2-f0f5-41bb-8e3b-db28ea9103af",
   "metadata": {},
   "outputs": [
    {
     "name": "stdout",
     "output_type": "stream",
     "text": [
      "\n",
      "The confusion matrix is:\n",
      "[[11759 15862]\n",
      " [ 3926 52269]]\n"
     ]
    },
    {
     "name": "stderr",
     "output_type": "stream",
     "text": [
      "C:\\Users\\25465\\anaconda3\\lib\\site-packages\\sklearn\\utils\\deprecation.py:87: FutureWarning: Function plot_confusion_matrix is deprecated; Function `plot_confusion_matrix` is deprecated in 1.0 and will be removed in 1.2. Use one of the class methods: ConfusionMatrixDisplay.from_predictions or ConfusionMatrixDisplay.from_estimator.\n",
      "  warnings.warn(msg, category=FutureWarning)\n"
     ]
    },
    {
     "data": {
      "image/png": "[encoded data removed]",
      "text/plain": [
       "<Figure size 432x288 with 2 Axes>"
      ]
     },
     "metadata": {
      "needs_background": "light"
     },
     "output_type": "display_data"
    },
    {
     "name": "stdout",
     "output_type": "stream",
     "text": [
      "\n",
      "The accuracy of Decision Tree model is: 0.763911425026248\n"
     ]
    }
   ],
   "source": [
    "## Evaluate the Models with Confusion Matrix and Accuracy\n",
    "bn_matrix = confusion_matrix(Test_reco['recommendation'], DT_pred_reco)\n",
    "print(\"\\nThe confusion matrix is:\")\n",
    "print(bn_matrix)\n",
    "plot_confusion_matrix(MyDT_reco, Test_DTM_DF_reco, Test_reco['recommendation'], cmap = 'summer_r')\n",
    "plt.show()\n",
    "#plt.savefig('MyTree1_cm.png')\n",
    "print(\"\\nThe accuracy of Decision Tree model is:\",accuracy_score(Test_reco['recommendation'], DT_pred_reco))"
   ]
  },
  {
   "cell_type": "code",
   "execution_count": 11,
   "id": "cdbbd191-ae4e-44c0-9c2e-c8d4f3cb8819",
   "metadata": {},
   "outputs": [
    {
     "name": "stderr",
     "output_type": "stream",
     "text": [
      "C:\\Users\\25465\\anaconda3\\lib\\site-packages\\sklearn\\utils\\deprecation.py:87: FutureWarning: Function get_feature_names is deprecated; get_feature_names is deprecated in 1.0 and will be removed in 1.2. Please use get_feature_names_out instead.\n",
      "  warnings.warn(msg, category=FutureWarning)\n"
     ]
    }
   ],
   "source": [
    "## Cross Validate\n",
    "## Instantiate a New TfidfVectorizer\n",
    "Tfidf=TfidfVectorizer(\n",
    "    input=\"content\",\n",
    "    lowercase=True, \n",
    "    stop_words = \"english\",\n",
    "    max_features = 1000)\n",
    "Train_cv = Tfidf.fit_transform(Clean_DF[\"review\"])\n",
    "Train_cv_DF=pd.DataFrame(Train_cv.toarray(),columns=Tfidf.get_feature_names())"
   ]
  },
  {
   "cell_type": "markdown",
   "id": "4ebf32d1",
   "metadata": {},
   "source": [
    "Use cross valiadation to generate logistic model."
   ]
  },
  {
   "cell_type": "code",
   "execution_count": 12,
   "id": "36de51e3-fb02-4a25-924d-95dae696d7b5",
   "metadata": {},
   "outputs": [],
   "source": [
    "## Cross Validete Function\n",
    "from sklearn.model_selection import cross_val_score, cross_validate\n",
    "output = cross_validate(estimator=MyDT_reco, X=Train_cv_DF, y=Clean_DF[\"recommendation\"], \n",
    "                            cv=6, scoring='accuracy', return_estimator =True)"
   ]
  },
  {
   "cell_type": "code",
   "execution_count": 14,
   "id": "eda4388c-000f-4913-86fb-e81d3485eb96",
   "metadata": {},
   "outputs": [
    {
     "data": {
      "text/plain": [
       "0.7488091465862382"
      ]
     },
     "execution_count": 14,
     "metadata": {},
     "output_type": "execute_result"
    }
   ],
   "source": [
    "output['test_score'].mean()"
   ]
  },
  {
   "cell_type": "markdown",
   "id": "e53d7a46",
   "metadata": {},
   "source": [
    "## Feature Importance"
   ]
  },
  {
   "cell_type": "code",
   "execution_count": 15,
   "id": "3b7b1651-44a2-4654-a006-176b22f36e83",
   "metadata": {},
   "outputs": [
    {
     "data": {
      "image/png": "[encoded data removed]",
      "text/plain": [
       "<Figure size 2160x1440 with 6 Axes>"
      ]
     },
     "metadata": {
      "needs_background": "light"
     },
     "output_type": "display_data"
    }
   ],
   "source": [
    "## Visualize the results\n",
    "fig=plt.figure(figsize=(30,20))\n",
    "\n",
    "for idx,estimator in enumerate(output['estimator']):\n",
    "    #print(\"Features sorted by their score for estimator {}:\".format(idx))\n",
    "    feature_importances = pd.DataFrame(estimator.feature_importances_,\n",
    "                                       index = Train_cv_DF.columns,\n",
    "                                        columns=['importance']).sort_values('importance', ascending=False)\n",
    "    #print(feature_importances[:10:])\n",
    "    plt.subplot(231+idx)\n",
    "    plt.bar(x = feature_importances.index[:10:], height=feature_importances[\"importance\"][:10:])"
   ]
  }
 ],
 "metadata": {
  "kernelspec": {
   "display_name": "Python 3",
   "language": "python",
   "name": "python3"
  },
  "language_info": {
   "codemirror_mode": {
    "name": "ipython",
    "version": 3
   },
   "file_extension": ".py",
   "mimetype": "text/x-python",
   "name": "python",
   "nbconvert_exporter": "python",
   "pygments_lexer": "ipython3",
   "version": "3.8.5"
  }
 },
 "nbformat": 4,
 "nbformat_minor": 5
}
