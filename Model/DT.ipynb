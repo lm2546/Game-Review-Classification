{
 "cells": [
  {
   "cell_type": "markdown",
   "id": "49fe448a-1354-47db-a818-8088879fccc0",
   "metadata": {},
   "source": [
    "# <center> Decision Tree Model"
   ]
  },
  {
   "cell_type": "markdown",
   "id": "b929c141",
   "metadata": {},
   "source": [
    "## Load Pacakage."
   ]
  },
  {
   "cell_type": "code",
   "execution_count": 1,
   "id": "3dc1f49d",
   "metadata": {},
   "outputs": [],
   "source": [
    "import re\n",
    "import numpy as np\n",
    "import pandas as pd\n",
    "import matplotlib.pyplot as plt\n",
    "from sklearn.feature_extraction.text import TfidfVectorizer\n",
    "from sklearn.metrics import confusion_matrix, plot_confusion_matrix\n",
    "from sklearn.tree import DecisionTreeClassifier, plot_tree\n",
    "from sklearn.metrics import accuracy_score\n",
    "from sklearn import tree\n",
    "import os\n",
    "import plotly.express as px\n",
    "from sklearn.model_selection import cross_val_score, cross_validate"
   ]
  },
  {
   "cell_type": "markdown",
   "id": "41568f73",
   "metadata": {},
   "source": [
    "## Load data"
   ]
  },
  {
   "cell_type": "code",
   "execution_count": 2,
   "id": "cb74bb6c-5c86-4fb5-a9eb-64b722a88a15",
   "metadata": {},
   "outputs": [],
   "source": [
    "Clean_DF = pd.read_csv('../data/Steam_Clean_Data.csv')\n",
    "Train_reco = pd.read_csv('../data/Train_reco.csv')\n",
    "Test_reco = pd.read_csv('../data/Test_reco.csv')"
   ]
  },
  {
   "cell_type": "markdown",
   "id": "58bbfe5d",
   "metadata": {},
   "source": [
    "## Transform Recomendation Data."
   ]
  },
  {
   "cell_type": "markdown",
   "id": "508ddc00",
   "metadata": {},
   "source": [
    "Use tfidvectorizer to transform text data"
   ]
  },
  {
   "cell_type": "code",
   "execution_count": 3,
   "id": "b08577c3-cebf-4148-8595-1f2377ecb3e2",
   "metadata": {},
   "outputs": [],
   "source": [
    "## Instantiate the TfidfVectorizer\n",
    "Tfidf_reco=TfidfVectorizer(\n",
    "    input=\"content\",\n",
    "    lowercase=True, \n",
    "    stop_words = \"english\",max_features = 1000)\n",
    "Train_DTM_reco = Tfidf_reco.fit_transform(Train_reco['review'])\n",
    "Test_DTM_reco = Tfidf_reco.transform(Test_reco['review'])\n",
    "DTM_reco=Tfidf_reco.fit_transform(Clean_DF['review'])"
   ]
  },
  {
   "cell_type": "markdown",
   "id": "6a1db6d1",
   "metadata": {},
   "source": [
    "Convert tfidvectorizer result to pandas data frame."
   ]
  },
  {
   "cell_type": "code",
   "execution_count": 4,
   "id": "22d57b62",
   "metadata": {},
   "outputs": [],
   "source": [
    "Train_DTM_DF_reco=pd.DataFrame(Train_DTM_reco.toarray(),columns=Tfidf_reco.get_feature_names())\n",
    "Test_DTM_DF_reco=pd.DataFrame(Test_DTM_reco.toarray(),columns=Tfidf_reco.get_feature_names())\n",
    "DTM_DF_reco=pd.DataFrame(DTM_reco.toarray(),columns=Tfidf_reco.get_feature_names())\n"
   ]
  },
  {
   "cell_type": "markdown",
   "id": "4dc5c1d0",
   "metadata": {},
   "source": [
    "## Recommendation Model"
   ]
  },
  {
   "cell_type": "markdown",
   "id": "36d2e775",
   "metadata": {},
   "source": [
    "### Base Model"
   ]
  },
  {
   "cell_type": "markdown",
   "id": "38ba00b8",
   "metadata": {},
   "source": [
    "Set an instantiate logistic model"
   ]
  },
  {
   "cell_type": "code",
   "execution_count": 5,
   "id": "1baa4e1d-016d-4f09-b952-eb755e7b7c0e",
   "metadata": {},
   "outputs": [],
   "source": [
    "## Instantiate the Decision Tree Model and Fit the Data\n",
    "MyDT_reco=DecisionTreeClassifier(criterion='entropy', ##\"entropy\" or \"gini\"\n",
    "                            splitter='best',  ## or \"random\" or \"best\"\n",
    "                            max_depth=20, \n",
    "                            min_samples_split=2, \n",
    "                            min_samples_leaf=1, \n",
    "                            min_weight_fraction_leaf=0.0, \n",
    "                            max_features=None, \n",
    "                            random_state=None, \n",
    "                            max_leaf_nodes=None, \n",
    "                            min_impurity_decrease=0.0, \n",
    "                            min_impurity_split=None, \n",
    "                            class_weight=None)"
   ]
  },
  {
   "cell_type": "markdown",
   "id": "f3623c48",
   "metadata": {},
   "source": [
    "Use trian data to fit the model."
   ]
  },
  {
   "cell_type": "code",
   "execution_count": 6,
   "id": "dd09d652",
   "metadata": {},
   "outputs": [],
   "source": [
    "MyDT_reco.fit(Train_DTM_DF_reco, Train_reco['recommendation'])\n",
    "\n",
    "feature_names = Train_DTM_DF_reco.columns\n",
    "class_names = Train_reco['recommendation'].unique()"
   ]
  },
  {
   "cell_type": "markdown",
   "id": "6b0bbbc3",
   "metadata": {},
   "source": [
    "Predict the test data"
   ]
  },
  {
   "cell_type": "code",
   "execution_count": 7,
   "id": "b2d3a721-c17c-41be-8d48-a454fb368653",
   "metadata": {},
   "outputs": [],
   "source": [
    "DT_pred_reco=MyDT_reco.predict(Test_DTM_DF_reco)"
   ]
  },
  {
   "cell_type": "markdown",
   "id": "0bd60a59",
   "metadata": {},
   "source": [
    "Create a confusion matrix"
   ]
  },
  {
   "cell_type": "code",
   "execution_count": 8,
   "id": "d6d0ecb2-f0f5-41bb-8e3b-db28ea9103af",
   "metadata": {},
   "outputs": [
    {
     "name": "stdout",
     "output_type": "stream",
     "text": [
      "\n",
      "The confusion matrix is:\n",
      "[[11760 15861]\n",
      " [ 3925 52270]]\n"
     ]
    },
    {
     "data": {
      "image/png": "[encoded data removed]",
      "text/plain": [
       "<Figure size 432x288 with 2 Axes>"
      ]
     },
     "metadata": {
      "needs_background": "light"
     },
     "output_type": "display_data"
    },
    {
     "name": "stdout",
     "output_type": "stream",
     "text": [
      "\n",
      "The accuracy of Decision Tree model is: 0.7639352868187458\n"
     ]
    }
   ],
   "source": [
    "## Evaluate the Models with Confusion Matrix and Accuracy\n",
    "bn_matrix = confusion_matrix(Test_reco['recommendation'], DT_pred_reco)\n",
    "print(\"\\nThe confusion matrix is:\")\n",
    "print(bn_matrix)\n",
    "plot_confusion_matrix(MyDT_reco, Test_DTM_DF_reco, Test_reco['recommendation'], cmap = 'summer_r')\n",
    "plt.show()\n",
    "#plt.savefig('MyTree1_cm.png')\n",
    "print(\"\\nThe accuracy of Decision Tree model is:\",accuracy_score(Test_reco['recommendation'], DT_pred_reco))"
   ]
  },
  {
   "cell_type": "markdown",
   "id": "35dd0440",
   "metadata": {},
   "source": [
    "### Cross Validation"
   ]
  },
  {
   "cell_type": "markdown",
   "id": "4ebf32d1",
   "metadata": {},
   "source": [
    "Convert model to integer. "
   ]
  },
  {
   "cell_type": "code",
   "execution_count": 9,
   "id": "a01cf8ee",
   "metadata": {},
   "outputs": [],
   "source": [
    "Label = [1 if Clean_DF.iloc[i,1]==\"Recommended\" else 0 for i in range(len(Clean_DF))]"
   ]
  },
  {
   "cell_type": "markdown",
   "id": "478b1c7d",
   "metadata": {},
   "source": [
    "Use cross valiadation to generate logistic model."
   ]
  },
  {
   "cell_type": "code",
   "execution_count": 11,
   "id": "36de51e3-fb02-4a25-924d-95dae696d7b5",
   "metadata": {},
   "outputs": [],
   "source": [
    "## Cross Validete Function\n",
    "output = cross_validate(estimator=MyDT_reco, X=DTM_reco, y=Label, \n",
    "                            cv=6, scoring=['accuracy','precision','f1'], return_estimator =True)"
   ]
  },
  {
   "cell_type": "markdown",
   "id": "0cf28e44",
   "metadata": {},
   "source": [
    "Print accuracy score"
   ]
  },
  {
   "cell_type": "code",
   "execution_count": 12,
   "id": "1d263f16-3120-46dc-81f5-7242fc5e26e2",
   "metadata": {},
   "outputs": [
    {
     "name": "stdout",
     "output_type": "stream",
     "text": [
      "The averege accuracy of cross validation is 0.75\n",
      "\n",
      "The averege precision of cross validation is 0.76\n",
      "\n",
      "The averege f1 of cross validation is 0.83\n",
      "\n"
     ]
    }
   ],
   "source": [
    "print(\"The averege accuracy of cross validation is %.2f\\n\" % output['test_accuracy'].mean())\n",
    "print(\"The averege precision of cross validation is %.2f\\n\" % output['test_precision'].mean())\n",
    "print(\"The averege f1 of cross validation is %.2f\\n\" % output['test_f1'].mean())"
   ]
  },
  {
   "cell_type": "markdown",
   "id": "c1e5b70a",
   "metadata": {},
   "source": [
    "## Feature Importance"
   ]
  },
  {
   "cell_type": "markdown",
   "id": "10f0622d",
   "metadata": {},
   "source": [
    "Create the feature importance for each cross validation."
   ]
  },
  {
   "cell_type": "code",
   "execution_count": 15,
   "id": "106a0efa-b905-487c-ba1a-50104b94db19",
   "metadata": {},
   "outputs": [
    {
     "data": {
      "image/png": "[encoded data removed]",
      "text/plain": [
       "<Figure size 2160x1440 with 6 Axes>"
      ]
     },
     "metadata": {
      "needs_background": "light"
     },
     "output_type": "display_data"
    }
   ],
   "source": [
    "## Visualize the results\n",
    "fig=plt.figure(figsize=(30,20))\n",
    "\n",
    "for idx,estimator in enumerate(output['estimator']):\n",
    "    #print(\"Features sorted by their score for estimator {}:\".format(idx))\n",
    "    feature_importances = pd.DataFrame(estimator.feature_importances_,\n",
    "                                       index = DTM_DF_reco.columns,\n",
    "                                       columns=['importance']).sort_values('importance', ascending=False)\n",
    "    #print(feature_importances[:10:])\n",
    "    plt.subplot(231+idx)\n",
    "    plt.bar(x = feature_importances.index[:10:], height=feature_importances[\"importance\"][:10:])"
   ]
  },
  {
   "cell_type": "code",
   "execution_count": null,
   "id": "cace4592-9d04-4408-aafd-d142c6815b04",
   "metadata": {},
   "outputs": [],
   "source": []
  }
 ],
 "metadata": {
  "kernelspec": {
   "display_name": "Python 3",
   "language": "python",
   "name": "python3"
  },
  "language_info": {
   "codemirror_mode": {
    "name": "ipython",
    "version": 3
   },
   "file_extension": ".py",
   "mimetype": "text/x-python",
   "name": "python",
   "nbconvert_exporter": "python",
   "pygments_lexer": "ipython3",
   "version": "3.8.5"
  }
 },
 "nbformat": 4,
 "nbformat_minor": 5
}
