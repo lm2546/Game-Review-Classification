{
 "cells": [
  {
   "cell_type": "code",
   "execution_count": 1,
   "id": "49fe448a-1354-47db-a818-8088879fccc0",
   "metadata": {},
   "outputs": [],
   "source": [
    "import re\n",
    "import numpy as np\n",
    "import pandas as pd\n",
    "from wordcloud import WordCloud, STOPWORDS\n",
    "import matplotlib.pyplot as plt\n",
    "from sklearn.feature_extraction.text import CountVectorizer, TfidfVectorizer\n",
    "from sklearn.metrics import confusion_matrix, plot_confusion_matrix\n",
    "from sklearn.metrics import accuracy_score\n",
    "from sklearn.naive_bayes import GaussianNB\n",
    "from sklearn import preprocessing\n",
    "import plotly.express as px"
   ]
  },
  {
   "cell_type": "code",
   "execution_count": 2,
   "id": "a82fb0b2-9abb-490e-b804-2f1c3106f01d",
   "metadata": {},
   "outputs": [],
   "source": [
    "Clean_DF = pd.read_csv('Steam_Clean_Data.csv')\n",
    "Train_reco = pd.read_csv('Train_reco.csv')\n",
    "Test_reco = pd.read_csv('Test_reco.csv')\n",
    "Train_auth = pd.read_csv('Train_auth.csv')\n",
    "Test_auth = pd.read_csv('Test_auth.csv')"
   ]
  },
  {
   "cell_type": "code",
   "execution_count": 3,
   "id": "b08577c3-cebf-4148-8595-1f2377ecb3e2",
   "metadata": {},
   "outputs": [],
   "source": [
    "Tfidf_reco=TfidfVectorizer(\n",
    "    input=\"content\",\n",
    "    lowercase=True, \n",
    "    stop_words = \"english\",max_features = 1000)\n",
    "Train_DTM_reco = Tfidf_reco.fit_transform(Train_reco['review'])"
   ]
  },
  {
   "cell_type": "code",
   "execution_count": 4,
   "id": "af1878f4-260a-4dd2-a7ff-b21d8ad7c345",
   "metadata": {},
   "outputs": [],
   "source": [
    "Train_DTM_DF_reco=pd.DataFrame(Train_DTM_reco.toarray(),columns=Tfidf_reco.get_feature_names())"
   ]
  },
  {
   "cell_type": "code",
   "execution_count": 5,
   "id": "1baa4e1d-016d-4f09-b952-eb755e7b7c0e",
   "metadata": {},
   "outputs": [
    {
     "data": {
      "text/plain": [
       "GaussianNB()"
      ]
     },
     "execution_count": 5,
     "metadata": {},
     "output_type": "execute_result"
    }
   ],
   "source": [
    "## Instantiate\n",
    "nb_reco=GaussianNB()\n",
    "nb_reco.fit(Train_DTM_DF_reco, Train_reco['recommendation'])"
   ]
  },
  {
   "cell_type": "code",
   "execution_count": 26,
   "id": "2602e9a5-1584-4cc2-8382-f043ad418f50",
   "metadata": {},
   "outputs": [
    {
     "data": {
      "text/plain": [
       "'fig = plt.figure(figsize=(30, 30))\\nMyTree1 = tree.plot_tree(MyDT1, impurity=True, rounded=True,\\n                         feature_names = feature_names, \\n                         class_names = class_names, \\n                         filled=True, fontsize=13)'"
      ]
     },
     "execution_count": 26,
     "metadata": {},
     "output_type": "execute_result"
    }
   ],
   "source": [
    "'''fig = plt.figure(figsize=(30, 30))\n",
    "MyTree1 = tree.plot_tree(MyDT1, impurity=True, rounded=True,\n",
    "                         feature_names = feature_names, \n",
    "                         class_names = class_names, \n",
    "                         filled=True, fontsize=13)'''"
   ]
  },
  {
   "cell_type": "code",
   "execution_count": 6,
   "id": "b2d3a721-c17c-41be-8d48-a454fb368653",
   "metadata": {},
   "outputs": [],
   "source": [
    "Test_DTM_reco = Tfidf_reco.transform(Test_reco['review'])\n",
    "Test_DTM_DF_reco=pd.DataFrame(Test_DTM_reco.toarray(),columns=Tfidf_reco.get_feature_names())\n",
    "DT_pred_reco=nb_reco.predict(Test_DTM_DF_reco)"
   ]
  },
  {
   "cell_type": "code",
   "execution_count": 7,
   "id": "b2d0c824-2bb7-472c-9a08-e8e86d750147",
   "metadata": {},
   "outputs": [
    {
     "name": "stdout",
     "output_type": "stream",
     "text": [
      "\n",
      "The confusion matrix is:\n",
      "[[21507  6114]\n",
      " [13001 43194]]\n"
     ]
    },
    {
     "data": {
      "text/plain": [
       "0.7719409182017754"
      ]
     },
     "execution_count": 7,
     "metadata": {},
     "output_type": "execute_result"
    },
    {
     "data": {
      "image/png": "[encoded data removed]",
      "text/plain": [
       "<Figure size 432x288 with 2 Axes>"
      ]
     },
     "metadata": {
      "needs_background": "light"
     },
     "output_type": "display_data"
    }
   ],
   "source": [
    "bn_matrix = confusion_matrix(Test_reco['recommendation'], DT_pred_reco)\n",
    "print(\"\\nThe confusion matrix is:\")\n",
    "print(bn_matrix)\n",
    "plot_confusion_matrix(nb_reco, Test_DTM_DF_reco, Test_reco['recommendation'], cmap = 'summer_r')\n",
    "#plt.savefig('MyTree1_cm.png')\n",
    "accuracy_score(Test_reco['recommendation'], DT_pred_reco)"
   ]
  },
  {
   "cell_type": "code",
   "execution_count": null,
   "id": "4e08499e-2d4e-479b-b3d2-3ad726215c03",
   "metadata": {},
   "outputs": [],
   "source": []
  },
  {
   "cell_type": "code",
   "execution_count": null,
   "id": "571e7e98-81ab-4b25-b6a3-00eaa929a171",
   "metadata": {},
   "outputs": [],
   "source": []
  },
  {
   "cell_type": "code",
   "execution_count": 8,
   "id": "b5d9ae7a-c56f-4696-8599-e7e7f368bbfb",
   "metadata": {},
   "outputs": [],
   "source": [
    "Tfidf_auth=TfidfVectorizer(\n",
    "    input=\"content\",\n",
    "    lowercase=True, \n",
    "    stop_words = \"english\",max_features = 1000)\n",
    "Train_DTM_auth = Tfidf_auth.fit_transform(Train_auth['review'])\n",
    "Train_DTM_DF_auth=pd.DataFrame(Train_DTM_auth.toarray(),columns=Tfidf_auth.get_feature_names())"
   ]
  },
  {
   "cell_type": "code",
   "execution_count": 9,
   "id": "dad86d0c-8ce4-474c-b413-7bca2fa43e4a",
   "metadata": {},
   "outputs": [
    {
     "data": {
      "text/plain": [
       "GaussianNB()"
      ]
     },
     "execution_count": 9,
     "metadata": {},
     "output_type": "execute_result"
    }
   ],
   "source": [
    "## Instantiate\n",
    "nb_auth=GaussianNB()\n",
    "nb_auth.fit(Train_DTM_DF_auth, Train_auth['authentic'])"
   ]
  },
  {
   "cell_type": "code",
   "execution_count": 11,
   "id": "6a136d64-1e14-4b59-9cc3-7ccef5cee911",
   "metadata": {},
   "outputs": [],
   "source": [
    "Test_DTM_auth = Tfidf_auth.transform(Test_auth['review'])\n",
    "Test_DTM_DF_auth=pd.DataFrame(Test_DTM_auth.toarray(),columns=Tfidf_auth.get_feature_names())\n",
    "DT_pred_auth=nb_auth.predict(Test_DTM_DF_auth)"
   ]
  },
  {
   "cell_type": "code",
   "execution_count": 13,
   "id": "63958625-10e7-4aaf-a499-70d01c5994e7",
   "metadata": {},
   "outputs": [
    {
     "name": "stdout",
     "output_type": "stream",
     "text": [
      "\n",
      "The confusion matrix is:\n",
      "[[28034 25185]\n",
      " [11588 19009]]\n"
     ]
    },
    {
     "data": {
      "text/plain": [
       "0.5612651522382361"
      ]
     },
     "execution_count": 13,
     "metadata": {},
     "output_type": "execute_result"
    },
    {
     "data": {
      "image/png": "[encoded data removed]",
      "text/plain": [
       "<Figure size 432x288 with 2 Axes>"
      ]
     },
     "metadata": {
      "needs_background": "light"
     },
     "output_type": "display_data"
    }
   ],
   "source": [
    "bn_matrix = confusion_matrix(Test_auth['authentic'], DT_pred_auth)\n",
    "print(\"\\nThe confusion matrix is:\")\n",
    "print(bn_matrix)\n",
    "plot_confusion_matrix(nb_auth, Test_DTM_DF_auth, Test_auth['authentic'], cmap = 'summer_r')\n",
    "#plt.savefig('MyTree1_cm.png')\n",
    "accuracy_score(Test_auth['authentic'], DT_pred_auth)"
   ]
  },
  {
   "cell_type": "code",
   "execution_count": null,
   "id": "1649657b-772e-4ea2-8881-4c268b77e1cc",
   "metadata": {},
   "outputs": [],
   "source": []
  }
 ],
 "metadata": {
  "kernelspec": {
   "display_name": "Python 3",
   "language": "python",
   "name": "python3"
  },
  "language_info": {
   "codemirror_mode": {
    "name": "ipython",
    "version": 3
   },
   "file_extension": ".py",
   "mimetype": "text/x-python",
   "name": "python",
   "nbconvert_exporter": "python",
   "pygments_lexer": "ipython3",
   "version": "3.8.5"
  }
 },
 "nbformat": 4,
 "nbformat_minor": 5
}
